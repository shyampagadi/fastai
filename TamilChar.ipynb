{
  "nbformat": 4,
  "nbformat_minor": 0,
  "metadata": {
    "colab": {
      "name": "TamilChar.ipynb",
      "version": "0.3.2",
      "provenance": [],
      "include_colab_link": true
    },
    "kernelspec": {
      "name": "python3",
      "display_name": "Python 3"
    },
    "accelerator": "GPU"
  },
  "cells": [
    {
      "cell_type": "markdown",
      "metadata": {
        "id": "view-in-github",
        "colab_type": "text"
      },
      "source": [
        "<a href=\"https://colab.research.google.com/github/shyampagadi/fastai/blob/master/TamilChar.ipynb\" target=\"_parent\"><img src=\"https://colab.research.google.com/assets/colab-badge.svg\" alt=\"Open In Colab\"/></a>"
      ]
    },
    {
      "metadata": {
        "id": "K3tDOK3P8vUH",
        "colab_type": "code",
        "colab": {
          "base_uri": "https://localhost:8080/",
          "height": 1637
        },
        "outputId": "4714a6ba-3387-4057-ab8b-3f175e8dcc3a"
      },
      "cell_type": "code",
      "source": [
        "!curl https://course-v3.fast.ai/setup/colab | bash\n"
      ],
      "execution_count": 5,
      "outputs": [
        {
          "output_type": "stream",
          "text": [
            "  % Total    % Received % Xferd  Average Speed   Time    Time     Time  Current\n",
            "                                 Dload  Upload   Total   Spent    Left  Speed\n",
            "\r  0     0    0     0    0     0      0      0 --:--:-- --:--:-- --:--:--     0\r100   665  100   665    0     0   3275      0 --:--:-- --:--:-- --:--:--  3275\n",
            "Collecting pillow==4.1.1\n",
            "\u001b[?25l  Downloading https://files.pythonhosted.org/packages/36/e5/88b3d60924a3f8476fa74ec086f5fbaba56dd6cee0d82845f883b6b6dd18/Pillow-4.1.1-cp36-cp36m-manylinux1_x86_64.whl (5.7MB)\n",
            "\u001b[K    100% |████████████████████████████████| 5.7MB 7.3MB/s \n",
            "\u001b[?25hRequirement already satisfied, skipping upgrade: olefile in /usr/local/lib/python3.6/dist-packages (from pillow==4.1.1) (0.46)\n",
            "Installing collected packages: pillow\n",
            "  Found existing installation: Pillow 4.0.0\n",
            "    Uninstalling Pillow-4.0.0:\n",
            "      Successfully uninstalled Pillow-4.0.0\n",
            "Successfully installed pillow-4.1.1\n",
            "Looking in links: https://download.pytorch.org/whl/nightly/cu92/torch_nightly.html\n",
            "Collecting torch_nightly\n",
            "\u001b[?25l  Downloading https://download.pytorch.org/whl/nightly/cu92/torch_nightly-1.0.0.dev20181206-cp36-cp36m-linux_x86_64.whl (576.2MB)\n",
            "\u001b[K    100% |████████████████████████████████| 576.2MB 27kB/s \n",
            "tcmalloc: large alloc 1073750016 bytes == 0x632de000 @  0x7fedc61482a4 0x591a07 0x5b5d56 0x502e9a 0x506859 0x502209 0x502f3d 0x506859 0x504c28 0x502540 0x502f3d 0x506859 0x504c28 0x502540 0x502f3d 0x506859 0x504c28 0x502540 0x502f3d 0x507641 0x502209 0x502f3d 0x506859 0x504c28 0x502540 0x502f3d 0x507641 0x504c28 0x502540 0x502f3d 0x507641\n",
            "\u001b[?25hInstalling collected packages: torch-nightly\n",
            "Successfully installed torch-nightly-1.0.0.dev20181206\n",
            "Cloning into 'course-v3'...\n",
            "remote: Enumerating objects: 2809, done.\u001b[K\n",
            "remote: Total 2809 (delta 0), reused 0 (delta 0), pack-reused 2809\u001b[K\n",
            "Receiving objects: 100% (2809/2809), 105.10 MiB | 30.17 MiB/s, done.\n",
            "Resolving deltas: 100% (1539/1539), done.\n",
            "Collecting fastai\n",
            "\u001b[?25l  Downloading https://files.pythonhosted.org/packages/f5/17/b5ab3f9a44b45661d9eb6e29001fe39c39ebb287ce9a9f1670d07bda0d4d/fastai-1.0.39-py3-none-any.whl (150kB)\n",
            "\u001b[K    100% |████████████████████████████████| 153kB 9.9MB/s \n",
            "\u001b[?25hCollecting bottleneck (from fastai)\n",
            "\u001b[?25l  Downloading https://files.pythonhosted.org/packages/05/ae/cedf5323f398ab4e4ff92d6c431a3e1c6a186f9b41ab3e8258dff786a290/Bottleneck-1.2.1.tar.gz (105kB)\n",
            "\u001b[K    100% |████████████████████████████████| 112kB 30.5MB/s \n",
            "\u001b[?25hRequirement already satisfied, skipping upgrade: pandas in /usr/local/lib/python3.6/dist-packages (from fastai) (0.22.0)\n",
            "Requirement already satisfied, skipping upgrade: numpy>=1.12 in /usr/local/lib/python3.6/dist-packages (from fastai) (1.14.6)\n",
            "Requirement already satisfied, skipping upgrade: matplotlib in /usr/local/lib/python3.6/dist-packages (from fastai) (2.1.2)\n",
            "Collecting fastprogress>=0.1.18 (from fastai)\n",
            "  Downloading https://files.pythonhosted.org/packages/78/57/24a5e20f4a357f7f1c90dd5250071951c832b2480fd4fefd7be48edf4180/fastprogress-0.1.18-py3-none-any.whl\n",
            "Requirement already satisfied, skipping upgrade: packaging in /usr/local/lib/python3.6/dist-packages (from fastai) (18.0)\n",
            "Requirement already satisfied, skipping upgrade: Pillow in /usr/local/lib/python3.6/dist-packages (from fastai) (4.1.1)\n",
            "Requirement already satisfied, skipping upgrade: numexpr in /usr/local/lib/python3.6/dist-packages (from fastai) (2.6.9)\n",
            "Requirement already satisfied, skipping upgrade: scipy in /usr/local/lib/python3.6/dist-packages (from fastai) (1.1.0)\n",
            "Requirement already satisfied, skipping upgrade: spacy>=2.0.18 in /usr/local/lib/python3.6/dist-packages (from fastai) (2.0.18)\n",
            "Collecting torch (from fastai)\n",
            "\u001b[?25l  Downloading https://files.pythonhosted.org/packages/7e/60/66415660aa46b23b5e1b72bc762e816736ce8d7260213e22365af51e8f9c/torch-1.0.0-cp36-cp36m-manylinux1_x86_64.whl (591.8MB)\n",
            "\u001b[K    100% |████████████████████████████████| 591.8MB 28kB/s \n",
            "tcmalloc: large alloc 1073750016 bytes == 0x617a8000 @  0x7fb661a0d2a4 0x591a07 0x5b5d56 0x502e9a 0x506859 0x502209 0x502f3d 0x506859 0x504c28 0x502540 0x502f3d 0x506859 0x504c28 0x502540 0x502f3d 0x506859 0x504c28 0x502540 0x502f3d 0x507641 0x502209 0x502f3d 0x506859 0x504c28 0x502540 0x502f3d 0x507641 0x504c28 0x502540 0x502f3d 0x507641\n",
            "\u001b[?25hCollecting typing (from fastai)\n",
            "  Downloading https://files.pythonhosted.org/packages/4a/bd/eee1157fc2d8514970b345d69cb9975dcd1e42cd7e61146ed841f6e68309/typing-3.6.6-py3-none-any.whl\n",
            "Requirement already satisfied, skipping upgrade: requests in /usr/local/lib/python3.6/dist-packages (from fastai) (2.18.4)\n",
            "Collecting dataclasses; python_version < \"3.7\" (from fastai)\n",
            "  Downloading https://files.pythonhosted.org/packages/26/2f/1095cdc2868052dd1e64520f7c0d5c8c550ad297e944e641dbf1ffbb9a5d/dataclasses-0.6-py3-none-any.whl\n",
            "Requirement already satisfied, skipping upgrade: pyyaml in /usr/local/lib/python3.6/dist-packages (from fastai) (3.13)\n",
            "Collecting nvidia-ml-py3 (from fastai)\n",
            "  Downloading https://files.pythonhosted.org/packages/6d/64/cce82bddb80c0b0f5c703bbdafa94bfb69a1c5ad7a79cff00b482468f0d3/nvidia-ml-py3-7.352.0.tar.gz\n",
            "Collecting torchvision (from fastai)\n",
            "\u001b[?25l  Downloading https://files.pythonhosted.org/packages/ca/0d/f00b2885711e08bd71242ebe7b96561e6f6d01fdb4b9dcf4d37e2e13c5e1/torchvision-0.2.1-py2.py3-none-any.whl (54kB)\n",
            "\u001b[K    100% |████████████████████████████████| 61kB 19.7MB/s \n",
            "\u001b[?25hRequirement already satisfied, skipping upgrade: python-dateutil>=2 in /usr/local/lib/python3.6/dist-packages (from pandas->fastai) (2.5.3)\n",
            "Requirement already satisfied, skipping upgrade: pytz>=2011k in /usr/local/lib/python3.6/dist-packages (from pandas->fastai) (2018.9)\n",
            "Requirement already satisfied, skipping upgrade: six>=1.10 in /usr/local/lib/python3.6/dist-packages (from matplotlib->fastai) (1.11.0)\n",
            "Requirement already satisfied, skipping upgrade: cycler>=0.10 in /usr/local/lib/python3.6/dist-packages (from matplotlib->fastai) (0.10.0)\n",
            "Requirement already satisfied, skipping upgrade: pyparsing!=2.0.4,!=2.1.2,!=2.1.6,>=2.0.1 in /usr/local/lib/python3.6/dist-packages (from matplotlib->fastai) (2.3.0)\n",
            "Requirement already satisfied, skipping upgrade: olefile in /usr/local/lib/python3.6/dist-packages (from Pillow->fastai) (0.46)\n",
            "Requirement already satisfied, skipping upgrade: thinc<6.13.0,>=6.12.1 in /usr/local/lib/python3.6/dist-packages (from spacy>=2.0.18->fastai) (6.12.1)\n",
            "Requirement already satisfied, skipping upgrade: cymem<2.1.0,>=2.0.2 in /usr/local/lib/python3.6/dist-packages (from spacy>=2.0.18->fastai) (2.0.2)\n",
            "Requirement already satisfied, skipping upgrade: murmurhash<1.1.0,>=0.28.0 in /usr/local/lib/python3.6/dist-packages (from spacy>=2.0.18->fastai) (1.0.1)\n",
            "Requirement already satisfied, skipping upgrade: regex==2018.01.10 in /usr/local/lib/python3.6/dist-packages (from spacy>=2.0.18->fastai) (2018.1.10)\n",
            "Requirement already satisfied, skipping upgrade: preshed<2.1.0,>=2.0.1 in /usr/local/lib/python3.6/dist-packages (from spacy>=2.0.18->fastai) (2.0.1)\n",
            "Requirement already satisfied, skipping upgrade: ujson>=1.35 in /usr/local/lib/python3.6/dist-packages (from spacy>=2.0.18->fastai) (1.35)\n",
            "Requirement already satisfied, skipping upgrade: plac<1.0.0,>=0.9.6 in /usr/local/lib/python3.6/dist-packages (from spacy>=2.0.18->fastai) (0.9.6)\n",
            "Requirement already satisfied, skipping upgrade: dill<0.3,>=0.2 in /usr/local/lib/python3.6/dist-packages (from spacy>=2.0.18->fastai) (0.2.8.2)\n",
            "Requirement already satisfied, skipping upgrade: idna<2.7,>=2.5 in /usr/local/lib/python3.6/dist-packages (from requests->fastai) (2.6)\n",
            "Requirement already satisfied, skipping upgrade: chardet<3.1.0,>=3.0.2 in /usr/local/lib/python3.6/dist-packages (from requests->fastai) (3.0.4)\n",
            "Requirement already satisfied, skipping upgrade: certifi>=2017.4.17 in /usr/local/lib/python3.6/dist-packages (from requests->fastai) (2018.11.29)\n",
            "Requirement already satisfied, skipping upgrade: urllib3<1.23,>=1.21.1 in /usr/local/lib/python3.6/dist-packages (from requests->fastai) (1.22)\n",
            "Requirement already satisfied, skipping upgrade: msgpack-numpy<0.4.4 in /usr/local/lib/python3.6/dist-packages (from thinc<6.13.0,>=6.12.1->spacy>=2.0.18->fastai) (0.4.3.2)\n",
            "Requirement already satisfied, skipping upgrade: wrapt<1.11.0,>=1.10.0 in /usr/local/lib/python3.6/dist-packages (from thinc<6.13.0,>=6.12.1->spacy>=2.0.18->fastai) (1.10.11)\n",
            "Requirement already satisfied, skipping upgrade: msgpack<0.6.0,>=0.5.6 in /usr/local/lib/python3.6/dist-packages (from thinc<6.13.0,>=6.12.1->spacy>=2.0.18->fastai) (0.5.6)\n",
            "Requirement already satisfied, skipping upgrade: cytoolz<0.10,>=0.9.0 in /usr/local/lib/python3.6/dist-packages (from thinc<6.13.0,>=6.12.1->spacy>=2.0.18->fastai) (0.9.0.1)\n",
            "Requirement already satisfied, skipping upgrade: tqdm<5.0.0,>=4.10.0 in /usr/local/lib/python3.6/dist-packages (from thinc<6.13.0,>=6.12.1->spacy>=2.0.18->fastai) (4.28.1)\n",
            "Requirement already satisfied, skipping upgrade: toolz>=0.8.0 in /usr/local/lib/python3.6/dist-packages (from cytoolz<0.10,>=0.9.0->thinc<6.13.0,>=6.12.1->spacy>=2.0.18->fastai) (0.9.0)\n",
            "Building wheels for collected packages: bottleneck, nvidia-ml-py3\n",
            "  Running setup.py bdist_wheel for bottleneck ... \u001b[?25l-\b \b\\\b \b|\b \b/\b \b-\b \b\\\b \b|\b \b/\b \bdone\n",
            "\u001b[?25h  Stored in directory: /root/.cache/pip/wheels/f2/bf/ec/e0f39aa27001525ad455139ee57ec7d0776fe074dfd78c97e4\n",
            "  Running setup.py bdist_wheel for nvidia-ml-py3 ... \u001b[?25l-\b \bdone\n",
            "\u001b[?25h  Stored in directory: /root/.cache/pip/wheels/e4/1d/06/640c93f5270d67d0247f30be91f232700d19023f9e66d735c7\n",
            "Successfully built bottleneck nvidia-ml-py3\n",
            "Installing collected packages: bottleneck, fastprogress, torch, typing, dataclasses, nvidia-ml-py3, torchvision, fastai\n",
            "Successfully installed bottleneck-1.2.1 dataclasses-0.6 fastai-1.0.39 fastprogress-0.1.18 nvidia-ml-py3-7.352.0 torch-1.0.0 torchvision-0.2.1 typing-3.6.6\n",
            "Already up to date.\n"
          ],
          "name": "stdout"
        }
      ]
    },
    {
      "metadata": {
        "id": "QJFkOo02ZBQg",
        "colab_type": "code",
        "colab": {
          "base_uri": "https://localhost:8080/",
          "height": 35
        },
        "outputId": "5e6d30da-5c62-4002-defe-c3e07316395c"
      },
      "cell_type": "code",
      "source": [
        "# ls"
      ],
      "execution_count": 4,
      "outputs": [
        {
          "output_type": "stream",
          "text": [
            "\u001b[0m\u001b[01;34msample_data\u001b[0m/\n"
          ],
          "name": "stdout"
        }
      ]
    },
    {
      "metadata": {
        "id": "JMBQgbtF8984",
        "colab_type": "code",
        "colab": {}
      },
      "cell_type": "code",
      "source": [
        "%reload_ext autoreload\n",
        "%autoreload \n",
        "%matplotlib inline"
      ],
      "execution_count": 0,
      "outputs": []
    },
    {
      "metadata": {
        "id": "sJ95LKYf9NSE",
        "colab_type": "code",
        "colab": {}
      },
      "cell_type": "code",
      "source": [
        "from fastai import *\n",
        "from fastai.vision import *\n",
        "import os\n",
        "import matplotlib.pyplot as plt\n",
        "\n",
        "import matplotlib.image as mpimg"
      ],
      "execution_count": 0,
      "outputs": []
    },
    {
      "metadata": {
        "id": "Sf9ZZHDx9Szi",
        "colab_type": "code",
        "colab": {
          "base_uri": "https://localhost:8080/",
          "height": 219
        },
        "outputId": "fba4f6c1-a0ee-4fec-bdd8-c9058655e38d"
      },
      "cell_type": "code",
      "source": [
        "!pip show fastai"
      ],
      "execution_count": 12,
      "outputs": [
        {
          "output_type": "stream",
          "text": [
            "Name: fastai\n",
            "Version: 1.0.39\n",
            "Summary: fastai makes deep learning with PyTorch faster, more accurate, and easier\n",
            "Home-page: https://github.com/fastai/fastai\n",
            "Author: Jeremy Howard\n",
            "Author-email: info@fast.ai\n",
            "License: Apache Software License 2.0\n",
            "Location: /usr/local/lib/python3.6/dist-packages\n",
            "Requires: numpy, Pillow, matplotlib, packaging, bottleneck, requests, scipy, numexpr, typing, spacy, pyyaml, dataclasses, nvidia-ml-py3, torchvision, torch, pandas, fastprogress\n",
            "Required-by: \n"
          ],
          "name": "stdout"
        }
      ]
    },
    {
      "metadata": {
        "id": "MGZJRUbN9Woa",
        "colab_type": "code",
        "colab": {
          "base_uri": "https://localhost:8080/",
          "height": 217
        },
        "outputId": "2724ea6b-63bf-4a1b-e110-f052eaa29eb7"
      },
      "cell_type": "code",
      "source": [
        "!wget http://www.jfn.ac.lk/wp-content/uploads/2016/04/UJTDchar.zip  && unzip -qq UJTDchar.zip -d data_tamil/"
      ],
      "execution_count": 13,
      "outputs": [
        {
          "output_type": "stream",
          "text": [
            "--2019-01-11 05:35:31--  http://www.jfn.ac.lk/wp-content/uploads/2016/04/UJTDchar.zip\n",
            "Resolving www.jfn.ac.lk (www.jfn.ac.lk)... 192.248.56.21\n",
            "Connecting to www.jfn.ac.lk (www.jfn.ac.lk)|192.248.56.21|:80... connected.\n",
            "HTTP request sent, awaiting response... 200 OK\n",
            "Length: 13784829 (13M) [application/zip]\n",
            "Saving to: ‘UJTDchar.zip’\n",
            "\n",
            "UJTDchar.zip        100%[===================>]  13.15M  1.93MB/s    in 11s     \n",
            "\n",
            "2019-01-11 05:35:43 (1.16 MB/s) - ‘UJTDchar.zip’ saved [13784829/13784829]\n",
            "\n"
          ],
          "name": "stdout"
        }
      ]
    },
    {
      "metadata": {
        "id": "rEVP1zza9sTm",
        "colab_type": "code",
        "colab": {
          "base_uri": "https://localhost:8080/",
          "height": 35
        },
        "outputId": "3e46a85f-dff5-44f0-e428-fb950bd8e4df"
      },
      "cell_type": "code",
      "source": [
        "pwd"
      ],
      "execution_count": 14,
      "outputs": [
        {
          "output_type": "execute_result",
          "data": {
            "text/plain": [
              "'/content'"
            ]
          },
          "metadata": {
            "tags": []
          },
          "execution_count": 14
        }
      ]
    },
    {
      "metadata": {
        "id": "lLVjIKnK9yHE",
        "colab_type": "code",
        "colab": {}
      },
      "cell_type": "code",
      "source": [
        "path = Path(\"data_tamil/UJTDchar/\")\n"
      ],
      "execution_count": 0,
      "outputs": []
    },
    {
      "metadata": {
        "id": "61ofDFvi91YE",
        "colab_type": "code",
        "colab": {}
      },
      "cell_type": "code",
      "source": [
        "path.ls()\n"
      ],
      "execution_count": 0,
      "outputs": []
    },
    {
      "metadata": {
        "id": "sHJphucn96D9",
        "colab_type": "code",
        "colab": {}
      },
      "cell_type": "code",
      "source": [
        "bs = 64\n",
        "\n",
        "tfms = get_transforms(do_flip=False)\n",
        "\n",
        "data = (ImageItemList.from_folder(path)\n",
        "        .random_split_by_pct()\n",
        "        .label_from_folder()\n",
        "        .transform(tfms,size=32)\n",
        "        .databunch())"
      ],
      "execution_count": 0,
      "outputs": []
    },
    {
      "metadata": {
        "id": "F30ZVTpf-dBE",
        "colab_type": "code",
        "colab": {
          "base_uri": "https://localhost:8080/",
          "height": 441
        },
        "outputId": "37629d8c-1d21-436b-b489-0022544af317"
      },
      "cell_type": "code",
      "source": [
        "data.show_batch(rows=5, figsize=(6,6))\n"
      ],
      "execution_count": 33,
      "outputs": [
        {
          "output_type": "display_data",
          "data": {
            "image/png": "[encoded data removed]",
            "text/plain": [
              "<matplotlib.figure.Figure at 0x7f13403559e8>"
            ]
          },
          "metadata": {
            "tags": []
          }
        }
      ]
    },
    {
      "metadata": {
        "id": "pEpe_Jin-fr0",
        "colab_type": "code",
        "colab": {}
      },
      "cell_type": "code",
      "source": [
        "learn = create_cnn(data, models.resnet34, metrics=error_rate)\n"
      ],
      "execution_count": 0,
      "outputs": []
    },
    {
      "metadata": {
        "id": "unCYQK0u_Ev0",
        "colab_type": "code",
        "colab": {
          "base_uri": "https://localhost:8080/",
          "height": 491
        },
        "outputId": "5ee807c8-0398-42b7-f208-24acb970c2eb"
      },
      "cell_type": "code",
      "source": [
        "learn.fit_one_cycle(20)\n"
      ],
      "execution_count": 20,
      "outputs": [
        {
          "output_type": "display_data",
          "data": {
            "text/html": [
              "Total time: 07:28 <p><table style='width:300px; margin-bottom:10px'>\n",
              "  <tr>\n",
              "    <th>epoch</th>\n",
              "    <th>train_loss</th>\n",
              "    <th>valid_loss</th>\n",
              "    <th>error_rate</th>\n",
              "  </tr>\n",
              "  <tr>\n",
              "    <th>1</th>\n",
              "    <th>5.161615</th>\n",
              "    <th>4.655143</th>\n",
              "    <th>0.952419</th>\n",
              "  </tr>\n",
              "  <tr>\n",
              "    <th>2</th>\n",
              "    <th>4.589064</th>\n",
              "    <th>3.974555</th>\n",
              "    <th>0.853629</th>\n",
              "  </tr>\n",
              "  <tr>\n",
              "    <th>3</th>\n",
              "    <th>3.912420</th>\n",
              "    <th>3.285117</th>\n",
              "    <th>0.769758</th>\n",
              "  </tr>\n",
              "  <tr>\n",
              "    <th>4</th>\n",
              "    <th>3.456487</th>\n",
              "    <th>2.710579</th>\n",
              "    <th>0.680242</th>\n",
              "  </tr>\n",
              "  <tr>\n",
              "    <th>5</th>\n",
              "    <th>3.114913</th>\n",
              "    <th>2.329902</th>\n",
              "    <th>0.616532</th>\n",
              "  </tr>\n",
              "  <tr>\n",
              "    <th>6</th>\n",
              "    <th>2.821953</th>\n",
              "    <th>2.002966</th>\n",
              "    <th>0.562097</th>\n",
              "  </tr>\n",
              "  <tr>\n",
              "    <th>7</th>\n",
              "    <th>2.518695</th>\n",
              "    <th>1.771698</th>\n",
              "    <th>0.517742</th>\n",
              "  </tr>\n",
              "  <tr>\n",
              "    <th>8</th>\n",
              "    <th>2.346605</th>\n",
              "    <th>1.611822</th>\n",
              "    <th>0.464919</th>\n",
              "  </tr>\n",
              "  <tr>\n",
              "    <th>9</th>\n",
              "    <th>2.156139</th>\n",
              "    <th>1.459478</th>\n",
              "    <th>0.445968</th>\n",
              "  </tr>\n",
              "  <tr>\n",
              "    <th>10</th>\n",
              "    <th>2.009109</th>\n",
              "    <th>1.330976</th>\n",
              "    <th>0.411290</th>\n",
              "  </tr>\n",
              "  <tr>\n",
              "    <th>11</th>\n",
              "    <th>1.915668</th>\n",
              "    <th>1.234606</th>\n",
              "    <th>0.378629</th>\n",
              "  </tr>\n",
              "  <tr>\n",
              "    <th>12</th>\n",
              "    <th>1.817298</th>\n",
              "    <th>1.160861</th>\n",
              "    <th>0.360484</th>\n",
              "  </tr>\n",
              "  <tr>\n",
              "    <th>13</th>\n",
              "    <th>1.734831</th>\n",
              "    <th>1.089427</th>\n",
              "    <th>0.347581</th>\n",
              "  </tr>\n",
              "  <tr>\n",
              "    <th>14</th>\n",
              "    <th>1.626272</th>\n",
              "    <th>1.044412</th>\n",
              "    <th>0.327419</th>\n",
              "  </tr>\n",
              "  <tr>\n",
              "    <th>15</th>\n",
              "    <th>1.567121</th>\n",
              "    <th>1.003165</th>\n",
              "    <th>0.316532</th>\n",
              "  </tr>\n",
              "  <tr>\n",
              "    <th>16</th>\n",
              "    <th>1.581092</th>\n",
              "    <th>0.981272</th>\n",
              "    <th>0.306452</th>\n",
              "  </tr>\n",
              "  <tr>\n",
              "    <th>17</th>\n",
              "    <th>1.477605</th>\n",
              "    <th>0.946827</th>\n",
              "    <th>0.300000</th>\n",
              "  </tr>\n",
              "  <tr>\n",
              "    <th>18</th>\n",
              "    <th>1.472635</th>\n",
              "    <th>0.936248</th>\n",
              "    <th>0.297177</th>\n",
              "  </tr>\n",
              "  <tr>\n",
              "    <th>19</th>\n",
              "    <th>1.461989</th>\n",
              "    <th>0.930199</th>\n",
              "    <th>0.293145</th>\n",
              "  </tr>\n",
              "  <tr>\n",
              "    <th>20</th>\n",
              "    <th>1.445431</th>\n",
              "    <th>0.938478</th>\n",
              "    <th>0.298790</th>\n",
              "  </tr>\n",
              "</table>\n"
            ],
            "text/plain": [
              "<IPython.core.display.HTML object>"
            ]
          },
          "metadata": {
            "tags": []
          }
        }
      ]
    },
    {
      "metadata": {
        "id": "SbzhtQ28AjNi",
        "colab_type": "code",
        "colab": {}
      },
      "cell_type": "code",
      "source": [
        "learn1 = create_cnn(data, models.resnet18, metrics=error_rate)\n"
      ],
      "execution_count": 0,
      "outputs": []
    },
    {
      "metadata": {
        "id": "QbtUY47sBOjp",
        "colab_type": "code",
        "colab": {
          "base_uri": "https://localhost:8080/",
          "height": 282
        },
        "outputId": "0b4166b5-d6f4-4864-e104-883c88ae3424"
      },
      "cell_type": "code",
      "source": [
        "learn1.fit_one_cycle(10)\n"
      ],
      "execution_count": 40,
      "outputs": [
        {
          "output_type": "display_data",
          "data": {
            "text/html": [
              "Total time: 03:24 <p><table style='width:300px; margin-bottom:10px'>\n",
              "  <tr>\n",
              "    <th>epoch</th>\n",
              "    <th>train_loss</th>\n",
              "    <th>valid_loss</th>\n",
              "    <th>error_rate</th>\n",
              "  </tr>\n",
              "  <tr>\n",
              "    <th>1</th>\n",
              "    <th>5.050056</th>\n",
              "    <th>4.421329</th>\n",
              "    <th>0.915323</th>\n",
              "  </tr>\n",
              "  <tr>\n",
              "    <th>2</th>\n",
              "    <th>4.218866</th>\n",
              "    <th>3.507938</th>\n",
              "    <th>0.802823</th>\n",
              "  </tr>\n",
              "  <tr>\n",
              "    <th>3</th>\n",
              "    <th>3.623972</th>\n",
              "    <th>2.943366</th>\n",
              "    <th>0.738306</th>\n",
              "  </tr>\n",
              "  <tr>\n",
              "    <th>4</th>\n",
              "    <th>3.285343</th>\n",
              "    <th>2.554030</th>\n",
              "    <th>0.666936</th>\n",
              "  </tr>\n",
              "  <tr>\n",
              "    <th>5</th>\n",
              "    <th>2.953789</th>\n",
              "    <th>2.287436</th>\n",
              "    <th>0.621371</th>\n",
              "  </tr>\n",
              "  <tr>\n",
              "    <th>6</th>\n",
              "    <th>2.727565</th>\n",
              "    <th>2.087898</th>\n",
              "    <th>0.582661</th>\n",
              "  </tr>\n",
              "  <tr>\n",
              "    <th>7</th>\n",
              "    <th>2.581264</th>\n",
              "    <th>1.924848</th>\n",
              "    <th>0.543952</th>\n",
              "  </tr>\n",
              "  <tr>\n",
              "    <th>8</th>\n",
              "    <th>2.411030</th>\n",
              "    <th>1.845320</th>\n",
              "    <th>0.522984</th>\n",
              "  </tr>\n",
              "  <tr>\n",
              "    <th>9</th>\n",
              "    <th>2.363851</th>\n",
              "    <th>1.813893</th>\n",
              "    <th>0.514516</th>\n",
              "  </tr>\n",
              "  <tr>\n",
              "    <th>10</th>\n",
              "    <th>2.353762</th>\n",
              "    <th>1.796979</th>\n",
              "    <th>0.511290</th>\n",
              "  </tr>\n",
              "</table>\n"
            ],
            "text/plain": [
              "<IPython.core.display.HTML object>"
            ]
          },
          "metadata": {
            "tags": []
          }
        }
      ]
    },
    {
      "metadata": {
        "id": "PjSCUaeRBQ83",
        "colab_type": "code",
        "colab": {
          "base_uri": "https://localhost:8080/",
          "height": 54
        },
        "outputId": "a58827fb-edca-4b27-bcc6-46a61ca215e9"
      },
      "cell_type": "code",
      "source": [
        "learn2 = create_cnn(data, models.resnet50, metrics=error_rate)\n"
      ],
      "execution_count": 41,
      "outputs": [
        {
          "output_type": "stream",
          "text": [
            "Downloading: \"https://download.pytorch.org/models/resnet50-19c8e357.pth\" to /root/.torch/models/resnet50-19c8e357.pth\n",
            "100%|██████████| 102502400/102502400 [00:01<00:00, 86569712.02it/s]\n"
          ],
          "name": "stderr"
        }
      ]
    },
    {
      "metadata": {
        "id": "rv28AHcDBknB",
        "colab_type": "code",
        "colab": {
          "base_uri": "https://localhost:8080/",
          "height": 282
        },
        "outputId": "a4de7245-a9d9-4ab8-f9a4-bb87bd0c3b22"
      },
      "cell_type": "code",
      "source": [
        "learn2.fit_one_cycle(10)\n"
      ],
      "execution_count": 42,
      "outputs": [
        {
          "output_type": "display_data",
          "data": {
            "text/html": [
              "Total time: 04:28 <p><table style='width:300px; margin-bottom:10px'>\n",
              "  <tr>\n",
              "    <th>epoch</th>\n",
              "    <th>train_loss</th>\n",
              "    <th>valid_loss</th>\n",
              "    <th>error_rate</th>\n",
              "  </tr>\n",
              "  <tr>\n",
              "    <th>1</th>\n",
              "    <th>4.890615</th>\n",
              "    <th>4.222559</th>\n",
              "    <th>0.900806</th>\n",
              "  </tr>\n",
              "  <tr>\n",
              "    <th>2</th>\n",
              "    <th>4.067413</th>\n",
              "    <th>3.319573</th>\n",
              "    <th>0.795161</th>\n",
              "  </tr>\n",
              "  <tr>\n",
              "    <th>3</th>\n",
              "    <th>3.453247</th>\n",
              "    <th>2.661719</th>\n",
              "    <th>0.690726</th>\n",
              "  </tr>\n",
              "  <tr>\n",
              "    <th>4</th>\n",
              "    <th>3.002195</th>\n",
              "    <th>2.249780</th>\n",
              "    <th>0.627419</th>\n",
              "  </tr>\n",
              "  <tr>\n",
              "    <th>5</th>\n",
              "    <th>2.674265</th>\n",
              "    <th>1.950333</th>\n",
              "    <th>0.564113</th>\n",
              "  </tr>\n",
              "  <tr>\n",
              "    <th>6</th>\n",
              "    <th>2.421961</th>\n",
              "    <th>1.713344</th>\n",
              "    <th>0.518952</th>\n",
              "  </tr>\n",
              "  <tr>\n",
              "    <th>7</th>\n",
              "    <th>2.219243</th>\n",
              "    <th>1.581707</th>\n",
              "    <th>0.477016</th>\n",
              "  </tr>\n",
              "  <tr>\n",
              "    <th>8</th>\n",
              "    <th>2.057996</th>\n",
              "    <th>1.484621</th>\n",
              "    <th>0.458065</th>\n",
              "  </tr>\n",
              "  <tr>\n",
              "    <th>9</th>\n",
              "    <th>2.007747</th>\n",
              "    <th>1.434396</th>\n",
              "    <th>0.428226</th>\n",
              "  </tr>\n",
              "  <tr>\n",
              "    <th>10</th>\n",
              "    <th>1.942974</th>\n",
              "    <th>1.441660</th>\n",
              "    <th>0.442742</th>\n",
              "  </tr>\n",
              "</table>\n"
            ],
            "text/plain": [
              "<IPython.core.display.HTML object>"
            ]
          },
          "metadata": {
            "tags": []
          }
        }
      ]
    },
    {
      "metadata": {
        "id": "EPaOD6kaBrhf",
        "colab_type": "code",
        "colab": {}
      },
      "cell_type": "code",
      "source": [
        "interp = ClassificationInterpretation.from_learner(learn)\n",
        "# interp1 = ClassificationInterpretation.from_learner(learn1)\n",
        "# interp2 = ClassificationInterpretation.from_learner(learn2)\n",
        "\n"
      ],
      "execution_count": 0,
      "outputs": []
    },
    {
      "metadata": {
        "id": "sgmdteD3GeZZ",
        "colab_type": "code",
        "colab": {
          "base_uri": "https://localhost:8080/",
          "height": 126
        },
        "outputId": "b2901909-9a24-4c32-a5e7-9b20d44653a7"
      },
      "cell_type": "code",
      "source": [
        "interp.most_confused(min_val=7)\n"
      ],
      "execution_count": 22,
      "outputs": [
        {
          "output_type": "execute_result",
          "data": {
            "text/plain": [
              "[('ன', 'ண', 13),\n",
              " ('ணூ', 'னு', 12),\n",
              " ('ணி', 'ணீ', 10),\n",
              " ('ணூ', 'ணு', 9),\n",
              " ('னூ', 'னு', 9),\n",
              " ('ப', 'ய', 9)]"
            ]
          },
          "metadata": {
            "tags": []
          },
          "execution_count": 22
        }
      ]
    },
    {
      "metadata": {
        "id": "sz9D1l3TJYfT",
        "colab_type": "code",
        "colab": {
          "base_uri": "https://localhost:8080/",
          "height": 181
        },
        "outputId": "8bd19e06-734d-4dc4-f006-e634e9a84217"
      },
      "cell_type": "code",
      "source": [
        "interp = ClassificationInterpretation.from_learner(learn)\n",
        "\n",
        "interp.most_confused(min_val=6)\n"
      ],
      "execution_count": 54,
      "outputs": [
        {
          "output_type": "execute_result",
          "data": {
            "text/plain": [
              "[('ணி', 'ணீ', 8),\n",
              " ('ணீ', 'ணி', 8),\n",
              " ('ன', 'ண', 8),\n",
              " ('னூ', 'னு', 8),\n",
              " ('சு', 'க', 7),\n",
              " ('ணூ', 'ணு', 7),\n",
              " ('னூ', 'ணூ', 7),\n",
              " ('லூ', 'லு', 7),\n",
              " ('ளி', 'ளீ', 7)]"
            ]
          },
          "metadata": {
            "tags": []
          },
          "execution_count": 54
        }
      ]
    },
    {
      "metadata": {
        "id": "-TNU9A3wGhp7",
        "colab_type": "code",
        "colab": {
          "base_uri": "https://localhost:8080/",
          "height": 126
        },
        "outputId": "5ff5b5fe-8360-42da-9108-bfadc01109eb"
      },
      "cell_type": "code",
      "source": [
        "interp1.most_confused(min_val=7)\n"
      ],
      "execution_count": 48,
      "outputs": [
        {
          "output_type": "execute_result",
          "data": {
            "text/plain": [
              "[('ணி', 'ணீ', 11),\n",
              " ('டூ', 'டு', 10),\n",
              " ('ணூ', 'ணு', 10),\n",
              " ('ன', 'ண', 10),\n",
              " ('ஞி', 'ஞீ', 8),\n",
              " ('னூ', 'ணூ', 8)]"
            ]
          },
          "metadata": {
            "tags": []
          },
          "execution_count": 48
        }
      ]
    },
    {
      "metadata": {
        "id": "Zbu13YoHJXiO",
        "colab_type": "code",
        "colab": {}
      },
      "cell_type": "code",
      "source": [
        ""
      ],
      "execution_count": 0,
      "outputs": []
    },
    {
      "metadata": {
        "id": "XkcEzkkFG6yK",
        "colab_type": "code",
        "colab": {
          "base_uri": "https://localhost:8080/",
          "height": 199
        },
        "outputId": "1b6156c2-13da-42e7-9d8e-7bc4e2b104e1"
      },
      "cell_type": "code",
      "source": [
        "interp2.most_confused(min_val=7)\n"
      ],
      "execution_count": 49,
      "outputs": [
        {
          "output_type": "execute_result",
          "data": {
            "text/plain": [
              "[('ணூ', 'ணு', 12),\n",
              " ('ஓ', 'ஒ', 11),\n",
              " ('லூ', 'லு', 11),\n",
              " ('சு', 'க', 9),\n",
              " ('ணி', 'ணீ', 9),\n",
              " ('ன', 'ண', 9),\n",
              " ('று', 'றூ', 9),\n",
              " ('ச', 'க', 8),\n",
              " ('ல்', 'வ்', 8),\n",
              " ('வீ', 'லீ', 8)]"
            ]
          },
          "metadata": {
            "tags": []
          },
          "execution_count": 49
        }
      ]
    },
    {
      "metadata": {
        "id": "cJ1lxmQLHCeQ",
        "colab_type": "code",
        "colab": {
          "base_uri": "https://localhost:8080/",
          "height": 108
        },
        "outputId": "719edcb6-3529-424c-f31a-96cb35903a9b"
      },
      "cell_type": "code",
      "source": [
        "learn.lr_find()\n"
      ],
      "execution_count": 50,
      "outputs": [
        {
          "output_type": "display_data",
          "data": {
            "text/html": [
              "\n",
              "    <div>\n",
              "        <style>\n",
              "            /* Turns off some styling */\n",
              "            progress {\n",
              "                /* gets rid of default border in Firefox and Opera. */\n",
              "                border: none;\n",
              "                /* Needs to be in here for Safari polyfill so background images work as expected. */\n",
              "                background-size: auto;\n",
              "            }\n",
              "            .progress-bar-interrupted, .progress-bar-interrupted::-webkit-progress-bar {\n",
              "                background: #F44336;\n",
              "            }\n",
              "        </style>\n",
              "      <progress value='0' class='' max='1', style='width:300px; height:20px; vertical-align: middle;'></progress>\n",
              "      0.00% [0/1 00:00<00:00]\n",
              "    </div>\n",
              "    \n",
              "<table style='width:300px; margin-bottom:10px'>\n",
              "  <tr>\n",
              "    <th>epoch</th>\n",
              "    <th>train_loss</th>\n",
              "    <th>valid_loss</th>\n",
              "    <th>error_rate</th>\n",
              "  </tr>\n",
              "</table>\n",
              "\n",
              "\n",
              "    <div>\n",
              "        <style>\n",
              "            /* Turns off some styling */\n",
              "            progress {\n",
              "                /* gets rid of default border in Firefox and Opera. */\n",
              "                border: none;\n",
              "                /* Needs to be in here for Safari polyfill so background images work as expected. */\n",
              "                background-size: auto;\n",
              "            }\n",
              "            .progress-bar-interrupted, .progress-bar-interrupted::-webkit-progress-bar {\n",
              "                background: #F44336;\n",
              "            }\n",
              "        </style>\n",
              "      <progress value='0' class='progress-bar-interrupted' max='155', style='width:300px; height:20px; vertical-align: middle;'></progress>\n",
              "      Interrupted\n",
              "    </div>\n",
              "    "
            ],
            "text/plain": [
              "<IPython.core.display.HTML object>"
            ]
          },
          "metadata": {
            "tags": []
          }
        },
        {
          "output_type": "stream",
          "text": [
            "LR Finder is complete, type {learner_name}.recorder.plot() to see the graph.\n"
          ],
          "name": "stdout"
        }
      ]
    },
    {
      "metadata": {
        "id": "mKw1_ElYHpQR",
        "colab_type": "code",
        "colab": {
          "base_uri": "https://localhost:8080/",
          "height": 279
        },
        "outputId": "5b43163f-b007-4784-dd4e-9ee204b183fe"
      },
      "cell_type": "code",
      "source": [
        "learn.recorder.plot()\n"
      ],
      "execution_count": 51,
      "outputs": [
        {
          "output_type": "display_data",
          "data": {
            "image/png": "[encoded data removed]",
            "text/plain": [
              "<matplotlib.figure.Figure at 0x7f13432a6a58>"
            ]
          },
          "metadata": {
            "tags": []
          }
        }
      ]
    },
    {
      "metadata": {
        "id": "fByp0nNMH8ht",
        "colab_type": "code",
        "colab": {
          "base_uri": "https://localhost:8080/",
          "height": 282
        },
        "outputId": "b61e7d9c-a733-43d9-9dff-9a5b396f81a7"
      },
      "cell_type": "code",
      "source": [
        "learn.fit_one_cycle(10, max_lr=slice(1e-6,1e-3))\n"
      ],
      "execution_count": 23,
      "outputs": [
        {
          "output_type": "display_data",
          "data": {
            "text/html": [
              "Total time: 03:40 <p><table style='width:300px; margin-bottom:10px'>\n",
              "  <tr>\n",
              "    <th>epoch</th>\n",
              "    <th>train_loss</th>\n",
              "    <th>valid_loss</th>\n",
              "    <th>error_rate</th>\n",
              "  </tr>\n",
              "  <tr>\n",
              "    <th>1</th>\n",
              "    <th>1.453218</th>\n",
              "    <th>0.931448</th>\n",
              "    <th>0.290323</th>\n",
              "  </tr>\n",
              "  <tr>\n",
              "    <th>2</th>\n",
              "    <th>1.464600</th>\n",
              "    <th>0.924112</th>\n",
              "    <th>0.295968</th>\n",
              "  </tr>\n",
              "  <tr>\n",
              "    <th>3</th>\n",
              "    <th>1.471036</th>\n",
              "    <th>0.921937</th>\n",
              "    <th>0.294758</th>\n",
              "  </tr>\n",
              "  <tr>\n",
              "    <th>4</th>\n",
              "    <th>1.451248</th>\n",
              "    <th>0.907334</th>\n",
              "    <th>0.288710</th>\n",
              "  </tr>\n",
              "  <tr>\n",
              "    <th>5</th>\n",
              "    <th>1.440550</th>\n",
              "    <th>0.909502</th>\n",
              "    <th>0.292742</th>\n",
              "  </tr>\n",
              "  <tr>\n",
              "    <th>6</th>\n",
              "    <th>1.478362</th>\n",
              "    <th>0.900380</th>\n",
              "    <th>0.292339</th>\n",
              "  </tr>\n",
              "  <tr>\n",
              "    <th>7</th>\n",
              "    <th>1.429569</th>\n",
              "    <th>0.900046</th>\n",
              "    <th>0.287097</th>\n",
              "  </tr>\n",
              "  <tr>\n",
              "    <th>8</th>\n",
              "    <th>1.389312</th>\n",
              "    <th>0.876026</th>\n",
              "    <th>0.281452</th>\n",
              "  </tr>\n",
              "  <tr>\n",
              "    <th>9</th>\n",
              "    <th>1.368363</th>\n",
              "    <th>0.888276</th>\n",
              "    <th>0.284274</th>\n",
              "  </tr>\n",
              "  <tr>\n",
              "    <th>10</th>\n",
              "    <th>1.385348</th>\n",
              "    <th>0.883871</th>\n",
              "    <th>0.284677</th>\n",
              "  </tr>\n",
              "</table>\n"
            ],
            "text/plain": [
              "<IPython.core.display.HTML object>"
            ]
          },
          "metadata": {
            "tags": []
          }
        }
      ]
    },
    {
      "metadata": {
        "id": "Mf8sbtYlIJz6",
        "colab_type": "code",
        "colab": {}
      },
      "cell_type": "code",
      "source": [
        "learn.unfreeze()\n"
      ],
      "execution_count": 0,
      "outputs": []
    },
    {
      "metadata": {
        "id": "PbtdvwkOJ4RK",
        "colab_type": "code",
        "colab": {
          "base_uri": "https://localhost:8080/",
          "height": 370
        },
        "outputId": "5f7d81b5-6556-49a2-dd48-464355f67880"
      },
      "cell_type": "code",
      "source": [
        "learn.lr_find()\n",
        "learn.recorder.plot()\n"
      ],
      "execution_count": 56,
      "outputs": [
        {
          "output_type": "display_data",
          "data": {
            "text/html": [
              "\n",
              "    <div>\n",
              "        <style>\n",
              "            /* Turns off some styling */\n",
              "            progress {\n",
              "                /* gets rid of default border in Firefox and Opera. */\n",
              "                border: none;\n",
              "                /* Needs to be in here for Safari polyfill so background images work as expected. */\n",
              "                background-size: auto;\n",
              "            }\n",
              "            .progress-bar-interrupted, .progress-bar-interrupted::-webkit-progress-bar {\n",
              "                background: #F44336;\n",
              "            }\n",
              "        </style>\n",
              "      <progress value='0' class='' max='1', style='width:300px; height:20px; vertical-align: middle;'></progress>\n",
              "      0.00% [0/1 00:00<00:00]\n",
              "    </div>\n",
              "    \n",
              "<table style='width:300px; margin-bottom:10px'>\n",
              "  <tr>\n",
              "    <th>epoch</th>\n",
              "    <th>train_loss</th>\n",
              "    <th>valid_loss</th>\n",
              "    <th>error_rate</th>\n",
              "  </tr>\n",
              "</table>\n",
              "\n",
              "\n",
              "    <div>\n",
              "        <style>\n",
              "            /* Turns off some styling */\n",
              "            progress {\n",
              "                /* gets rid of default border in Firefox and Opera. */\n",
              "                border: none;\n",
              "                /* Needs to be in here for Safari polyfill so background images work as expected. */\n",
              "                background-size: auto;\n",
              "            }\n",
              "            .progress-bar-interrupted, .progress-bar-interrupted::-webkit-progress-bar {\n",
              "                background: #F44336;\n",
              "            }\n",
              "        </style>\n",
              "      <progress value='0' class='progress-bar-interrupted' max='155', style='width:300px; height:20px; vertical-align: middle;'></progress>\n",
              "      Interrupted\n",
              "    </div>\n",
              "    "
            ],
            "text/plain": [
              "<IPython.core.display.HTML object>"
            ]
          },
          "metadata": {
            "tags": []
          }
        },
        {
          "output_type": "stream",
          "text": [
            "LR Finder is complete, type {learner_name}.recorder.plot() to see the graph.\n"
          ],
          "name": "stdout"
        },
        {
          "output_type": "display_data",
          "data": {
            "image/png": "[encoded data removed]",
            "text/plain": [
              "<matplotlib.figure.Figure at 0x7f134026c4e0>"
            ]
          },
          "metadata": {
            "tags": []
          }
        }
      ]
    },
    {
      "metadata": {
        "id": "pTZm8kpRJ8w-",
        "colab_type": "code",
        "colab": {
          "base_uri": "https://localhost:8080/",
          "height": 491
        },
        "outputId": "b403c2dc-5ef0-4c5c-8342-5adaa929bc72"
      },
      "cell_type": "code",
      "source": [
        "learn.fit_one_cycle(20, max_lr=slice(1e-6,1e-4))\n"
      ],
      "execution_count": 25,
      "outputs": [
        {
          "output_type": "display_data",
          "data": {
            "text/html": [
              "Total time: 07:58 <p><table style='width:300px; margin-bottom:10px'>\n",
              "  <tr>\n",
              "    <th>epoch</th>\n",
              "    <th>train_loss</th>\n",
              "    <th>valid_loss</th>\n",
              "    <th>error_rate</th>\n",
              "  </tr>\n",
              "  <tr>\n",
              "    <th>1</th>\n",
              "    <th>1.359349</th>\n",
              "    <th>0.872376</th>\n",
              "    <th>0.280645</th>\n",
              "  </tr>\n",
              "  <tr>\n",
              "    <th>2</th>\n",
              "    <th>1.331598</th>\n",
              "    <th>0.864304</th>\n",
              "    <th>0.272581</th>\n",
              "  </tr>\n",
              "  <tr>\n",
              "    <th>3</th>\n",
              "    <th>1.334399</th>\n",
              "    <th>0.843112</th>\n",
              "    <th>0.274194</th>\n",
              "  </tr>\n",
              "  <tr>\n",
              "    <th>4</th>\n",
              "    <th>1.289960</th>\n",
              "    <th>0.808161</th>\n",
              "    <th>0.254032</th>\n",
              "  </tr>\n",
              "  <tr>\n",
              "    <th>5</th>\n",
              "    <th>1.259184</th>\n",
              "    <th>0.760671</th>\n",
              "    <th>0.242742</th>\n",
              "  </tr>\n",
              "  <tr>\n",
              "    <th>6</th>\n",
              "    <th>1.210884</th>\n",
              "    <th>0.726754</th>\n",
              "    <th>0.235887</th>\n",
              "  </tr>\n",
              "  <tr>\n",
              "    <th>7</th>\n",
              "    <th>1.149012</th>\n",
              "    <th>0.705938</th>\n",
              "    <th>0.229435</th>\n",
              "  </tr>\n",
              "  <tr>\n",
              "    <th>8</th>\n",
              "    <th>1.141096</th>\n",
              "    <th>0.677554</th>\n",
              "    <th>0.218145</th>\n",
              "  </tr>\n",
              "  <tr>\n",
              "    <th>9</th>\n",
              "    <th>1.089823</th>\n",
              "    <th>0.652167</th>\n",
              "    <th>0.210887</th>\n",
              "  </tr>\n",
              "  <tr>\n",
              "    <th>10</th>\n",
              "    <th>1.051004</th>\n",
              "    <th>0.630465</th>\n",
              "    <th>0.208065</th>\n",
              "  </tr>\n",
              "  <tr>\n",
              "    <th>11</th>\n",
              "    <th>1.036839</th>\n",
              "    <th>0.625999</th>\n",
              "    <th>0.199194</th>\n",
              "  </tr>\n",
              "  <tr>\n",
              "    <th>12</th>\n",
              "    <th>1.019265</th>\n",
              "    <th>0.608203</th>\n",
              "    <th>0.202016</th>\n",
              "  </tr>\n",
              "  <tr>\n",
              "    <th>13</th>\n",
              "    <th>0.986249</th>\n",
              "    <th>0.601325</th>\n",
              "    <th>0.199597</th>\n",
              "  </tr>\n",
              "  <tr>\n",
              "    <th>14</th>\n",
              "    <th>0.962092</th>\n",
              "    <th>0.582049</th>\n",
              "    <th>0.195565</th>\n",
              "  </tr>\n",
              "  <tr>\n",
              "    <th>15</th>\n",
              "    <th>0.954287</th>\n",
              "    <th>0.579694</th>\n",
              "    <th>0.195161</th>\n",
              "  </tr>\n",
              "  <tr>\n",
              "    <th>16</th>\n",
              "    <th>0.927917</th>\n",
              "    <th>0.576833</th>\n",
              "    <th>0.197581</th>\n",
              "  </tr>\n",
              "  <tr>\n",
              "    <th>17</th>\n",
              "    <th>0.933147</th>\n",
              "    <th>0.567133</th>\n",
              "    <th>0.190726</th>\n",
              "  </tr>\n",
              "  <tr>\n",
              "    <th>18</th>\n",
              "    <th>0.963091</th>\n",
              "    <th>0.579889</th>\n",
              "    <th>0.191532</th>\n",
              "  </tr>\n",
              "  <tr>\n",
              "    <th>19</th>\n",
              "    <th>0.963954</th>\n",
              "    <th>0.569898</th>\n",
              "    <th>0.191935</th>\n",
              "  </tr>\n",
              "  <tr>\n",
              "    <th>20</th>\n",
              "    <th>0.940461</th>\n",
              "    <th>0.563028</th>\n",
              "    <th>0.185484</th>\n",
              "  </tr>\n",
              "</table>\n"
            ],
            "text/plain": [
              "<IPython.core.display.HTML object>"
            ]
          },
          "metadata": {
            "tags": []
          }
        }
      ]
    },
    {
      "metadata": {
        "id": "fgQoDIzlKUX7",
        "colab_type": "code",
        "colab": {
          "base_uri": "https://localhost:8080/",
          "height": 282
        },
        "outputId": "f8df93ca-e7cd-4a50-a5ca-b0e8463fddbd"
      },
      "cell_type": "code",
      "source": [
        "learn.fit_one_cycle(10, max_lr=slice(1e-6,1e-4))\n"
      ],
      "execution_count": 26,
      "outputs": [
        {
          "output_type": "display_data",
          "data": {
            "text/html": [
              "Total time: 03:56 <p><table style='width:300px; margin-bottom:10px'>\n",
              "  <tr>\n",
              "    <th>epoch</th>\n",
              "    <th>train_loss</th>\n",
              "    <th>valid_loss</th>\n",
              "    <th>error_rate</th>\n",
              "  </tr>\n",
              "  <tr>\n",
              "    <th>1</th>\n",
              "    <th>0.934947</th>\n",
              "    <th>0.560729</th>\n",
              "    <th>0.186694</th>\n",
              "  </tr>\n",
              "  <tr>\n",
              "    <th>2</th>\n",
              "    <th>0.945061</th>\n",
              "    <th>0.570229</th>\n",
              "    <th>0.187097</th>\n",
              "  </tr>\n",
              "  <tr>\n",
              "    <th>3</th>\n",
              "    <th>0.886350</th>\n",
              "    <th>0.549593</th>\n",
              "    <th>0.186694</th>\n",
              "  </tr>\n",
              "  <tr>\n",
              "    <th>4</th>\n",
              "    <th>0.873843</th>\n",
              "    <th>0.534081</th>\n",
              "    <th>0.181048</th>\n",
              "  </tr>\n",
              "  <tr>\n",
              "    <th>5</th>\n",
              "    <th>0.890537</th>\n",
              "    <th>0.514606</th>\n",
              "    <th>0.179032</th>\n",
              "  </tr>\n",
              "  <tr>\n",
              "    <th>6</th>\n",
              "    <th>0.868268</th>\n",
              "    <th>0.511551</th>\n",
              "    <th>0.176210</th>\n",
              "  </tr>\n",
              "  <tr>\n",
              "    <th>7</th>\n",
              "    <th>0.823566</th>\n",
              "    <th>0.508024</th>\n",
              "    <th>0.177016</th>\n",
              "  </tr>\n",
              "  <tr>\n",
              "    <th>8</th>\n",
              "    <th>0.798203</th>\n",
              "    <th>0.498044</th>\n",
              "    <th>0.173387</th>\n",
              "  </tr>\n",
              "  <tr>\n",
              "    <th>9</th>\n",
              "    <th>0.820269</th>\n",
              "    <th>0.512798</th>\n",
              "    <th>0.173387</th>\n",
              "  </tr>\n",
              "  <tr>\n",
              "    <th>10</th>\n",
              "    <th>0.829651</th>\n",
              "    <th>0.509253</th>\n",
              "    <th>0.175806</th>\n",
              "  </tr>\n",
              "</table>\n"
            ],
            "text/plain": [
              "<IPython.core.display.HTML object>"
            ]
          },
          "metadata": {
            "tags": []
          }
        }
      ]
    },
    {
      "metadata": {
        "id": "nCInp70_LvNs",
        "colab_type": "code",
        "colab": {
          "base_uri": "https://localhost:8080/",
          "height": 282
        },
        "outputId": "bc313ef1-3f6f-4731-c6f5-9250a40284d4"
      },
      "cell_type": "code",
      "source": [
        "learn.fit_one_cycle(10, max_lr=slice(1e-6,1e-4))\n"
      ],
      "execution_count": 27,
      "outputs": [
        {
          "output_type": "display_data",
          "data": {
            "text/html": [
              "Total time: 04:07 <p><table style='width:300px; margin-bottom:10px'>\n",
              "  <tr>\n",
              "    <th>epoch</th>\n",
              "    <th>train_loss</th>\n",
              "    <th>valid_loss</th>\n",
              "    <th>error_rate</th>\n",
              "  </tr>\n",
              "  <tr>\n",
              "    <th>1</th>\n",
              "    <th>0.832711</th>\n",
              "    <th>0.500628</th>\n",
              "    <th>0.167742</th>\n",
              "  </tr>\n",
              "  <tr>\n",
              "    <th>2</th>\n",
              "    <th>0.818182</th>\n",
              "    <th>0.493620</th>\n",
              "    <th>0.171371</th>\n",
              "  </tr>\n",
              "  <tr>\n",
              "    <th>3</th>\n",
              "    <th>0.821090</th>\n",
              "    <th>0.484388</th>\n",
              "    <th>0.166532</th>\n",
              "  </tr>\n",
              "  <tr>\n",
              "    <th>4</th>\n",
              "    <th>0.795152</th>\n",
              "    <th>0.479186</th>\n",
              "    <th>0.163710</th>\n",
              "  </tr>\n",
              "  <tr>\n",
              "    <th>5</th>\n",
              "    <th>0.770198</th>\n",
              "    <th>0.489078</th>\n",
              "    <th>0.170161</th>\n",
              "  </tr>\n",
              "  <tr>\n",
              "    <th>6</th>\n",
              "    <th>0.778283</th>\n",
              "    <th>0.462451</th>\n",
              "    <th>0.166532</th>\n",
              "  </tr>\n",
              "  <tr>\n",
              "    <th>7</th>\n",
              "    <th>0.764830</th>\n",
              "    <th>0.449926</th>\n",
              "    <th>0.159677</th>\n",
              "  </tr>\n",
              "  <tr>\n",
              "    <th>8</th>\n",
              "    <th>0.726306</th>\n",
              "    <th>0.446824</th>\n",
              "    <th>0.158065</th>\n",
              "  </tr>\n",
              "  <tr>\n",
              "    <th>9</th>\n",
              "    <th>0.737291</th>\n",
              "    <th>0.454182</th>\n",
              "    <th>0.159677</th>\n",
              "  </tr>\n",
              "  <tr>\n",
              "    <th>10</th>\n",
              "    <th>0.758379</th>\n",
              "    <th>0.444904</th>\n",
              "    <th>0.154435</th>\n",
              "  </tr>\n",
              "</table>\n"
            ],
            "text/plain": [
              "<IPython.core.display.HTML object>"
            ]
          },
          "metadata": {
            "tags": []
          }
        }
      ]
    },
    {
      "metadata": {
        "id": "3FgD20A3M6hu",
        "colab_type": "code",
        "colab": {
          "base_uri": "https://localhost:8080/",
          "height": 282
        },
        "outputId": "98a06d3e-3c13-4b1b-a9b1-3ddcfc98b226"
      },
      "cell_type": "code",
      "source": [
        "learn.fit_one_cycle(10, max_lr=slice(1e-6,1e-4))\n"
      ],
      "execution_count": 28,
      "outputs": [
        {
          "output_type": "display_data",
          "data": {
            "text/html": [
              "Total time: 04:01 <p><table style='width:300px; margin-bottom:10px'>\n",
              "  <tr>\n",
              "    <th>epoch</th>\n",
              "    <th>train_loss</th>\n",
              "    <th>valid_loss</th>\n",
              "    <th>error_rate</th>\n",
              "  </tr>\n",
              "  <tr>\n",
              "    <th>1</th>\n",
              "    <th>0.724900</th>\n",
              "    <th>0.445703</th>\n",
              "    <th>0.161694</th>\n",
              "  </tr>\n",
              "  <tr>\n",
              "    <th>2</th>\n",
              "    <th>0.743114</th>\n",
              "    <th>0.442317</th>\n",
              "    <th>0.157661</th>\n",
              "  </tr>\n",
              "  <tr>\n",
              "    <th>3</th>\n",
              "    <th>0.725578</th>\n",
              "    <th>0.440042</th>\n",
              "    <th>0.150806</th>\n",
              "  </tr>\n",
              "  <tr>\n",
              "    <th>4</th>\n",
              "    <th>0.751806</th>\n",
              "    <th>0.429576</th>\n",
              "    <th>0.155242</th>\n",
              "  </tr>\n",
              "  <tr>\n",
              "    <th>5</th>\n",
              "    <th>0.706180</th>\n",
              "    <th>0.440388</th>\n",
              "    <th>0.156048</th>\n",
              "  </tr>\n",
              "  <tr>\n",
              "    <th>6</th>\n",
              "    <th>0.683823</th>\n",
              "    <th>0.417646</th>\n",
              "    <th>0.151613</th>\n",
              "  </tr>\n",
              "  <tr>\n",
              "    <th>7</th>\n",
              "    <th>0.676574</th>\n",
              "    <th>0.407489</th>\n",
              "    <th>0.149194</th>\n",
              "  </tr>\n",
              "  <tr>\n",
              "    <th>8</th>\n",
              "    <th>0.694142</th>\n",
              "    <th>0.417346</th>\n",
              "    <th>0.149597</th>\n",
              "  </tr>\n",
              "  <tr>\n",
              "    <th>9</th>\n",
              "    <th>0.677310</th>\n",
              "    <th>0.422604</th>\n",
              "    <th>0.144758</th>\n",
              "  </tr>\n",
              "  <tr>\n",
              "    <th>10</th>\n",
              "    <th>0.685183</th>\n",
              "    <th>0.412695</th>\n",
              "    <th>0.146371</th>\n",
              "  </tr>\n",
              "</table>\n"
            ],
            "text/plain": [
              "<IPython.core.display.HTML object>"
            ]
          },
          "metadata": {
            "tags": []
          }
        }
      ]
    },
    {
      "metadata": {
        "id": "HCHIO5j6Phvw",
        "colab_type": "code",
        "colab": {
          "base_uri": "https://localhost:8080/",
          "height": 282
        },
        "outputId": "340cb6e0-f612-473e-8a88-e2d84d0d5e37"
      },
      "cell_type": "code",
      "source": [
        "learn.fit_one_cycle(10, max_lr=slice(1e-6,1e-4))\n"
      ],
      "execution_count": 29,
      "outputs": [
        {
          "output_type": "display_data",
          "data": {
            "text/html": [
              "Total time: 03:59 <p><table style='width:300px; margin-bottom:10px'>\n",
              "  <tr>\n",
              "    <th>epoch</th>\n",
              "    <th>train_loss</th>\n",
              "    <th>valid_loss</th>\n",
              "    <th>error_rate</th>\n",
              "  </tr>\n",
              "  <tr>\n",
              "    <th>1</th>\n",
              "    <th>0.677901</th>\n",
              "    <th>0.405892</th>\n",
              "    <th>0.143145</th>\n",
              "  </tr>\n",
              "  <tr>\n",
              "    <th>2</th>\n",
              "    <th>0.674445</th>\n",
              "    <th>0.409667</th>\n",
              "    <th>0.149194</th>\n",
              "  </tr>\n",
              "  <tr>\n",
              "    <th>3</th>\n",
              "    <th>0.670505</th>\n",
              "    <th>0.400655</th>\n",
              "    <th>0.136694</th>\n",
              "  </tr>\n",
              "  <tr>\n",
              "    <th>4</th>\n",
              "    <th>0.657202</th>\n",
              "    <th>0.404602</th>\n",
              "    <th>0.145968</th>\n",
              "  </tr>\n",
              "  <tr>\n",
              "    <th>5</th>\n",
              "    <th>0.642167</th>\n",
              "    <th>0.392161</th>\n",
              "    <th>0.140726</th>\n",
              "  </tr>\n",
              "  <tr>\n",
              "    <th>6</th>\n",
              "    <th>0.628095</th>\n",
              "    <th>0.387555</th>\n",
              "    <th>0.134274</th>\n",
              "  </tr>\n",
              "  <tr>\n",
              "    <th>7</th>\n",
              "    <th>0.635053</th>\n",
              "    <th>0.381124</th>\n",
              "    <th>0.135887</th>\n",
              "  </tr>\n",
              "  <tr>\n",
              "    <th>8</th>\n",
              "    <th>0.625795</th>\n",
              "    <th>0.380629</th>\n",
              "    <th>0.142339</th>\n",
              "  </tr>\n",
              "  <tr>\n",
              "    <th>9</th>\n",
              "    <th>0.615483</th>\n",
              "    <th>0.382094</th>\n",
              "    <th>0.143145</th>\n",
              "  </tr>\n",
              "  <tr>\n",
              "    <th>10</th>\n",
              "    <th>0.623411</th>\n",
              "    <th>0.382974</th>\n",
              "    <th>0.142742</th>\n",
              "  </tr>\n",
              "</table>\n"
            ],
            "text/plain": [
              "<IPython.core.display.HTML object>"
            ]
          },
          "metadata": {
            "tags": []
          }
        }
      ]
    },
    {
      "metadata": {
        "id": "Tq5Cqa1hkASB",
        "colab_type": "code",
        "colab": {
          "base_uri": "https://localhost:8080/",
          "height": 282
        },
        "outputId": "8b8b6c48-3385-44d1-872a-3df5ffbeef83"
      },
      "cell_type": "code",
      "source": [
        "learn.fit_one_cycle(10, max_lr=slice(1e-6,1e-4))\n"
      ],
      "execution_count": 30,
      "outputs": [
        {
          "output_type": "display_data",
          "data": {
            "text/html": [
              "Total time: 04:02 <p><table style='width:300px; margin-bottom:10px'>\n",
              "  <tr>\n",
              "    <th>epoch</th>\n",
              "    <th>train_loss</th>\n",
              "    <th>valid_loss</th>\n",
              "    <th>error_rate</th>\n",
              "  </tr>\n",
              "  <tr>\n",
              "    <th>1</th>\n",
              "    <th>0.614695</th>\n",
              "    <th>0.384235</th>\n",
              "    <th>0.138306</th>\n",
              "  </tr>\n",
              "  <tr>\n",
              "    <th>2</th>\n",
              "    <th>0.626228</th>\n",
              "    <th>0.400169</th>\n",
              "    <th>0.141532</th>\n",
              "  </tr>\n",
              "  <tr>\n",
              "    <th>3</th>\n",
              "    <th>0.608501</th>\n",
              "    <th>0.377684</th>\n",
              "    <th>0.132258</th>\n",
              "  </tr>\n",
              "  <tr>\n",
              "    <th>4</th>\n",
              "    <th>0.617692</th>\n",
              "    <th>0.382222</th>\n",
              "    <th>0.137097</th>\n",
              "  </tr>\n",
              "  <tr>\n",
              "    <th>5</th>\n",
              "    <th>0.610812</th>\n",
              "    <th>0.369686</th>\n",
              "    <th>0.130242</th>\n",
              "  </tr>\n",
              "  <tr>\n",
              "    <th>6</th>\n",
              "    <th>0.586773</th>\n",
              "    <th>0.359422</th>\n",
              "    <th>0.128629</th>\n",
              "  </tr>\n",
              "  <tr>\n",
              "    <th>7</th>\n",
              "    <th>0.587970</th>\n",
              "    <th>0.352535</th>\n",
              "    <th>0.124194</th>\n",
              "  </tr>\n",
              "  <tr>\n",
              "    <th>8</th>\n",
              "    <th>0.580206</th>\n",
              "    <th>0.362878</th>\n",
              "    <th>0.129839</th>\n",
              "  </tr>\n",
              "  <tr>\n",
              "    <th>9</th>\n",
              "    <th>0.567712</th>\n",
              "    <th>0.361866</th>\n",
              "    <th>0.127823</th>\n",
              "  </tr>\n",
              "  <tr>\n",
              "    <th>10</th>\n",
              "    <th>0.590830</th>\n",
              "    <th>0.357432</th>\n",
              "    <th>0.125000</th>\n",
              "  </tr>\n",
              "</table>\n"
            ],
            "text/plain": [
              "<IPython.core.display.HTML object>"
            ]
          },
          "metadata": {
            "tags": []
          }
        }
      ]
    },
    {
      "metadata": {
        "id": "rCJvGAAvk9YF",
        "colab_type": "code",
        "colab": {
          "base_uri": "https://localhost:8080/",
          "height": 282
        },
        "outputId": "6a1cf21c-bff8-4b45-c21c-bf0c88ae1f20"
      },
      "cell_type": "code",
      "source": [
        "learn.fit_one_cycle(10, max_lr=slice(1e-6,1e-4))\n"
      ],
      "execution_count": 31,
      "outputs": [
        {
          "output_type": "display_data",
          "data": {
            "text/html": [
              "Total time: 04:23 <p><table style='width:300px; margin-bottom:10px'>\n",
              "  <tr>\n",
              "    <th>epoch</th>\n",
              "    <th>train_loss</th>\n",
              "    <th>valid_loss</th>\n",
              "    <th>error_rate</th>\n",
              "  </tr>\n",
              "  <tr>\n",
              "    <th>1</th>\n",
              "    <th>0.564858</th>\n",
              "    <th>0.352834</th>\n",
              "    <th>0.125403</th>\n",
              "  </tr>\n",
              "  <tr>\n",
              "    <th>2</th>\n",
              "    <th>0.578128</th>\n",
              "    <th>0.353374</th>\n",
              "    <th>0.127823</th>\n",
              "  </tr>\n",
              "  <tr>\n",
              "    <th>3</th>\n",
              "    <th>0.580453</th>\n",
              "    <th>0.362502</th>\n",
              "    <th>0.131452</th>\n",
              "  </tr>\n",
              "  <tr>\n",
              "    <th>4</th>\n",
              "    <th>0.582047</th>\n",
              "    <th>0.350588</th>\n",
              "    <th>0.128226</th>\n",
              "  </tr>\n",
              "  <tr>\n",
              "    <th>5</th>\n",
              "    <th>0.576151</th>\n",
              "    <th>0.352339</th>\n",
              "    <th>0.126210</th>\n",
              "  </tr>\n",
              "  <tr>\n",
              "    <th>6</th>\n",
              "    <th>0.553395</th>\n",
              "    <th>0.335535</th>\n",
              "    <th>0.121371</th>\n",
              "  </tr>\n",
              "  <tr>\n",
              "    <th>7</th>\n",
              "    <th>0.539481</th>\n",
              "    <th>0.338247</th>\n",
              "    <th>0.123387</th>\n",
              "  </tr>\n",
              "  <tr>\n",
              "    <th>8</th>\n",
              "    <th>0.537185</th>\n",
              "    <th>0.335409</th>\n",
              "    <th>0.121371</th>\n",
              "  </tr>\n",
              "  <tr>\n",
              "    <th>9</th>\n",
              "    <th>0.558858</th>\n",
              "    <th>0.337784</th>\n",
              "    <th>0.123387</th>\n",
              "  </tr>\n",
              "  <tr>\n",
              "    <th>10</th>\n",
              "    <th>0.544044</th>\n",
              "    <th>0.336509</th>\n",
              "    <th>0.121774</th>\n",
              "  </tr>\n",
              "</table>\n"
            ],
            "text/plain": [
              "<IPython.core.display.HTML object>"
            ]
          },
          "metadata": {
            "tags": []
          }
        }
      ]
    },
    {
      "metadata": {
        "id": "sWmwzusZl7Ul",
        "colab_type": "code",
        "colab": {
          "base_uri": "https://localhost:8080/",
          "height": 282
        },
        "outputId": "54392836-a74b-4cca-905f-9564e72ddb7e"
      },
      "cell_type": "code",
      "source": [
        "learn.fit_one_cycle(10, max_lr=slice(1e-6,1e-4))\n"
      ],
      "execution_count": 32,
      "outputs": [
        {
          "output_type": "display_data",
          "data": {
            "text/html": [
              "Total time: 04:32 <p><table style='width:300px; margin-bottom:10px'>\n",
              "  <tr>\n",
              "    <th>epoch</th>\n",
              "    <th>train_loss</th>\n",
              "    <th>valid_loss</th>\n",
              "    <th>error_rate</th>\n",
              "  </tr>\n",
              "  <tr>\n",
              "    <th>1</th>\n",
              "    <th>0.544624</th>\n",
              "    <th>0.332303</th>\n",
              "    <th>0.122581</th>\n",
              "  </tr>\n",
              "  <tr>\n",
              "    <th>2</th>\n",
              "    <th>0.551355</th>\n",
              "    <th>0.330528</th>\n",
              "    <th>0.119758</th>\n",
              "  </tr>\n",
              "  <tr>\n",
              "    <th>3</th>\n",
              "    <th>0.545784</th>\n",
              "    <th>0.340690</th>\n",
              "    <th>0.123790</th>\n",
              "  </tr>\n",
              "  <tr>\n",
              "    <th>4</th>\n",
              "    <th>0.548746</th>\n",
              "    <th>0.353809</th>\n",
              "    <th>0.132661</th>\n",
              "  </tr>\n",
              "  <tr>\n",
              "    <th>5</th>\n",
              "    <th>0.546866</th>\n",
              "    <th>0.327028</th>\n",
              "    <th>0.122177</th>\n",
              "  </tr>\n",
              "  <tr>\n",
              "    <th>6</th>\n",
              "    <th>0.533087</th>\n",
              "    <th>0.334419</th>\n",
              "    <th>0.124194</th>\n",
              "  </tr>\n",
              "  <tr>\n",
              "    <th>7</th>\n",
              "    <th>0.527066</th>\n",
              "    <th>0.333981</th>\n",
              "    <th>0.124597</th>\n",
              "  </tr>\n",
              "  <tr>\n",
              "    <th>8</th>\n",
              "    <th>0.508359</th>\n",
              "    <th>0.322388</th>\n",
              "    <th>0.121371</th>\n",
              "  </tr>\n",
              "  <tr>\n",
              "    <th>9</th>\n",
              "    <th>0.518765</th>\n",
              "    <th>0.322574</th>\n",
              "    <th>0.121774</th>\n",
              "  </tr>\n",
              "  <tr>\n",
              "    <th>10</th>\n",
              "    <th>0.518262</th>\n",
              "    <th>0.321248</th>\n",
              "    <th>0.117742</th>\n",
              "  </tr>\n",
              "</table>\n"
            ],
            "text/plain": [
              "<IPython.core.display.HTML object>"
            ]
          },
          "metadata": {
            "tags": []
          }
        }
      ]
    },
    {
      "metadata": {
        "id": "ziyniU0GnAlY",
        "colab_type": "code",
        "colab": {
          "base_uri": "https://localhost:8080/",
          "height": 282
        },
        "outputId": "4e24b3e9-4d26-4381-c9ee-462f318bf86a"
      },
      "cell_type": "code",
      "source": [
        "learn.fit_one_cycle(10, max_lr=slice(1e-6,1e-4))\n"
      ],
      "execution_count": 33,
      "outputs": [
        {
          "output_type": "display_data",
          "data": {
            "text/html": [
              "Total time: 04:32 <p><table style='width:300px; margin-bottom:10px'>\n",
              "  <tr>\n",
              "    <th>epoch</th>\n",
              "    <th>train_loss</th>\n",
              "    <th>valid_loss</th>\n",
              "    <th>error_rate</th>\n",
              "  </tr>\n",
              "  <tr>\n",
              "    <th>1</th>\n",
              "    <th>0.511512</th>\n",
              "    <th>0.322867</th>\n",
              "    <th>0.121774</th>\n",
              "  </tr>\n",
              "  <tr>\n",
              "    <th>2</th>\n",
              "    <th>0.515479</th>\n",
              "    <th>0.319719</th>\n",
              "    <th>0.122177</th>\n",
              "  </tr>\n",
              "  <tr>\n",
              "    <th>3</th>\n",
              "    <th>0.511797</th>\n",
              "    <th>0.325853</th>\n",
              "    <th>0.123387</th>\n",
              "  </tr>\n",
              "  <tr>\n",
              "    <th>4</th>\n",
              "    <th>0.506297</th>\n",
              "    <th>0.323242</th>\n",
              "    <th>0.116129</th>\n",
              "  </tr>\n",
              "  <tr>\n",
              "    <th>5</th>\n",
              "    <th>0.528809</th>\n",
              "    <th>0.322545</th>\n",
              "    <th>0.115323</th>\n",
              "  </tr>\n",
              "  <tr>\n",
              "    <th>6</th>\n",
              "    <th>0.495206</th>\n",
              "    <th>0.322759</th>\n",
              "    <th>0.115726</th>\n",
              "  </tr>\n",
              "  <tr>\n",
              "    <th>7</th>\n",
              "    <th>0.491529</th>\n",
              "    <th>0.319389</th>\n",
              "    <th>0.123387</th>\n",
              "  </tr>\n",
              "  <tr>\n",
              "    <th>8</th>\n",
              "    <th>0.494980</th>\n",
              "    <th>0.328322</th>\n",
              "    <th>0.123790</th>\n",
              "  </tr>\n",
              "  <tr>\n",
              "    <th>9</th>\n",
              "    <th>0.487183</th>\n",
              "    <th>0.320324</th>\n",
              "    <th>0.120565</th>\n",
              "  </tr>\n",
              "  <tr>\n",
              "    <th>10</th>\n",
              "    <th>0.475456</th>\n",
              "    <th>0.310815</th>\n",
              "    <th>0.116532</th>\n",
              "  </tr>\n",
              "</table>\n"
            ],
            "text/plain": [
              "<IPython.core.display.HTML object>"
            ]
          },
          "metadata": {
            "tags": []
          }
        }
      ]
    },
    {
      "metadata": {
        "id": "w1O3eCN7oFSB",
        "colab_type": "code",
        "colab": {
          "base_uri": "https://localhost:8080/",
          "height": 282
        },
        "outputId": "2e0fb2c2-41a1-4d35-8cb8-3c4047c1261a"
      },
      "cell_type": "code",
      "source": [
        "learn.fit_one_cycle(10, max_lr=slice(1e-6,1e-4))\n"
      ],
      "execution_count": 34,
      "outputs": [
        {
          "output_type": "display_data",
          "data": {
            "text/html": [
              "Total time: 04:31 <p><table style='width:300px; margin-bottom:10px'>\n",
              "  <tr>\n",
              "    <th>epoch</th>\n",
              "    <th>train_loss</th>\n",
              "    <th>valid_loss</th>\n",
              "    <th>error_rate</th>\n",
              "  </tr>\n",
              "  <tr>\n",
              "    <th>1</th>\n",
              "    <th>0.484868</th>\n",
              "    <th>0.326900</th>\n",
              "    <th>0.121774</th>\n",
              "  </tr>\n",
              "  <tr>\n",
              "    <th>2</th>\n",
              "    <th>0.474733</th>\n",
              "    <th>0.317945</th>\n",
              "    <th>0.120565</th>\n",
              "  </tr>\n",
              "  <tr>\n",
              "    <th>3</th>\n",
              "    <th>0.489337</th>\n",
              "    <th>0.316081</th>\n",
              "    <th>0.118548</th>\n",
              "  </tr>\n",
              "  <tr>\n",
              "    <th>4</th>\n",
              "    <th>0.507071</th>\n",
              "    <th>0.308575</th>\n",
              "    <th>0.118952</th>\n",
              "  </tr>\n",
              "  <tr>\n",
              "    <th>5</th>\n",
              "    <th>0.477215</th>\n",
              "    <th>0.313354</th>\n",
              "    <th>0.118548</th>\n",
              "  </tr>\n",
              "  <tr>\n",
              "    <th>6</th>\n",
              "    <th>0.500569</th>\n",
              "    <th>0.310097</th>\n",
              "    <th>0.112500</th>\n",
              "  </tr>\n",
              "  <tr>\n",
              "    <th>7</th>\n",
              "    <th>0.471501</th>\n",
              "    <th>0.299690</th>\n",
              "    <th>0.112903</th>\n",
              "  </tr>\n",
              "  <tr>\n",
              "    <th>8</th>\n",
              "    <th>0.461486</th>\n",
              "    <th>0.304802</th>\n",
              "    <th>0.119758</th>\n",
              "  </tr>\n",
              "  <tr>\n",
              "    <th>9</th>\n",
              "    <th>0.450170</th>\n",
              "    <th>0.305007</th>\n",
              "    <th>0.117339</th>\n",
              "  </tr>\n",
              "  <tr>\n",
              "    <th>10</th>\n",
              "    <th>0.447379</th>\n",
              "    <th>0.300014</th>\n",
              "    <th>0.112903</th>\n",
              "  </tr>\n",
              "</table>\n"
            ],
            "text/plain": [
              "<IPython.core.display.HTML object>"
            ]
          },
          "metadata": {
            "tags": []
          }
        }
      ]
    },
    {
      "metadata": {
        "id": "AiFwxFBvpLVS",
        "colab_type": "code",
        "colab": {
          "base_uri": "https://localhost:8080/",
          "height": 282
        },
        "outputId": "d75c16fe-636b-4be3-f4a9-3a4db0bff4f9"
      },
      "cell_type": "code",
      "source": [
        "learn.fit_one_cycle(10, max_lr=slice(1e-6,1e-4))\n"
      ],
      "execution_count": 35,
      "outputs": [
        {
          "output_type": "display_data",
          "data": {
            "text/html": [
              "Total time: 04:31 <p><table style='width:300px; margin-bottom:10px'>\n",
              "  <tr>\n",
              "    <th>epoch</th>\n",
              "    <th>train_loss</th>\n",
              "    <th>valid_loss</th>\n",
              "    <th>error_rate</th>\n",
              "  </tr>\n",
              "  <tr>\n",
              "    <th>1</th>\n",
              "    <th>0.447232</th>\n",
              "    <th>0.296899</th>\n",
              "    <th>0.110081</th>\n",
              "  </tr>\n",
              "  <tr>\n",
              "    <th>2</th>\n",
              "    <th>0.456767</th>\n",
              "    <th>0.307013</th>\n",
              "    <th>0.117339</th>\n",
              "  </tr>\n",
              "  <tr>\n",
              "    <th>3</th>\n",
              "    <th>0.462643</th>\n",
              "    <th>0.298034</th>\n",
              "    <th>0.115726</th>\n",
              "  </tr>\n",
              "  <tr>\n",
              "    <th>4</th>\n",
              "    <th>0.456478</th>\n",
              "    <th>0.295791</th>\n",
              "    <th>0.113710</th>\n",
              "  </tr>\n",
              "  <tr>\n",
              "    <th>5</th>\n",
              "    <th>0.476035</th>\n",
              "    <th>0.294816</th>\n",
              "    <th>0.114516</th>\n",
              "  </tr>\n",
              "  <tr>\n",
              "    <th>6</th>\n",
              "    <th>0.445997</th>\n",
              "    <th>0.305940</th>\n",
              "    <th>0.114113</th>\n",
              "  </tr>\n",
              "  <tr>\n",
              "    <th>7</th>\n",
              "    <th>0.440201</th>\n",
              "    <th>0.298044</th>\n",
              "    <th>0.116532</th>\n",
              "  </tr>\n",
              "  <tr>\n",
              "    <th>8</th>\n",
              "    <th>0.433854</th>\n",
              "    <th>0.296150</th>\n",
              "    <th>0.112500</th>\n",
              "  </tr>\n",
              "  <tr>\n",
              "    <th>9</th>\n",
              "    <th>0.439275</th>\n",
              "    <th>0.290504</th>\n",
              "    <th>0.112500</th>\n",
              "  </tr>\n",
              "  <tr>\n",
              "    <th>10</th>\n",
              "    <th>0.432122</th>\n",
              "    <th>0.296607</th>\n",
              "    <th>0.117742</th>\n",
              "  </tr>\n",
              "</table>\n"
            ],
            "text/plain": [
              "<IPython.core.display.HTML object>"
            ]
          },
          "metadata": {
            "tags": []
          }
        }
      ]
    },
    {
      "metadata": {
        "id": "dljTNBG3qPlK",
        "colab_type": "code",
        "colab": {
          "base_uri": "https://localhost:8080/",
          "height": 282
        },
        "outputId": "f252774c-477b-4497-9f34-aae1e05c8b5f"
      },
      "cell_type": "code",
      "source": [
        "learn.fit_one_cycle(10, max_lr=slice(1e-6,1e-4))\n"
      ],
      "execution_count": 36,
      "outputs": [
        {
          "output_type": "display_data",
          "data": {
            "text/html": [
              "Total time: 04:30 <p><table style='width:300px; margin-bottom:10px'>\n",
              "  <tr>\n",
              "    <th>epoch</th>\n",
              "    <th>train_loss</th>\n",
              "    <th>valid_loss</th>\n",
              "    <th>error_rate</th>\n",
              "  </tr>\n",
              "  <tr>\n",
              "    <th>1</th>\n",
              "    <th>0.448016</th>\n",
              "    <th>0.305691</th>\n",
              "    <th>0.115323</th>\n",
              "  </tr>\n",
              "  <tr>\n",
              "    <th>2</th>\n",
              "    <th>0.435944</th>\n",
              "    <th>0.302144</th>\n",
              "    <th>0.116129</th>\n",
              "  </tr>\n",
              "  <tr>\n",
              "    <th>3</th>\n",
              "    <th>0.441144</th>\n",
              "    <th>0.296270</th>\n",
              "    <th>0.119355</th>\n",
              "  </tr>\n",
              "  <tr>\n",
              "    <th>4</th>\n",
              "    <th>0.451244</th>\n",
              "    <th>0.300726</th>\n",
              "    <th>0.118145</th>\n",
              "  </tr>\n",
              "  <tr>\n",
              "    <th>5</th>\n",
              "    <th>0.460523</th>\n",
              "    <th>0.299343</th>\n",
              "    <th>0.121774</th>\n",
              "  </tr>\n",
              "  <tr>\n",
              "    <th>6</th>\n",
              "    <th>0.435072</th>\n",
              "    <th>0.307556</th>\n",
              "    <th>0.123387</th>\n",
              "  </tr>\n",
              "  <tr>\n",
              "    <th>7</th>\n",
              "    <th>0.439189</th>\n",
              "    <th>0.295640</th>\n",
              "    <th>0.115323</th>\n",
              "  </tr>\n",
              "  <tr>\n",
              "    <th>8</th>\n",
              "    <th>0.421499</th>\n",
              "    <th>0.291870</th>\n",
              "    <th>0.112500</th>\n",
              "  </tr>\n",
              "  <tr>\n",
              "    <th>9</th>\n",
              "    <th>0.419138</th>\n",
              "    <th>0.295316</th>\n",
              "    <th>0.114113</th>\n",
              "  </tr>\n",
              "  <tr>\n",
              "    <th>10</th>\n",
              "    <th>0.409973</th>\n",
              "    <th>0.298082</th>\n",
              "    <th>0.115726</th>\n",
              "  </tr>\n",
              "</table>\n"
            ],
            "text/plain": [
              "<IPython.core.display.HTML object>"
            ]
          },
          "metadata": {
            "tags": []
          }
        }
      ]
    },
    {
      "metadata": {
        "id": "lofO1vturUXn",
        "colab_type": "code",
        "colab": {
          "base_uri": "https://localhost:8080/",
          "height": 282
        },
        "outputId": "2690ddeb-58ee-4192-9e08-7b3841367401"
      },
      "cell_type": "code",
      "source": [
        "learn.fit_one_cycle(10, max_lr=slice(1e-6,1e-4))\n"
      ],
      "execution_count": 37,
      "outputs": [
        {
          "output_type": "display_data",
          "data": {
            "text/html": [
              "Total time: 04:29 <p><table style='width:300px; margin-bottom:10px'>\n",
              "  <tr>\n",
              "    <th>epoch</th>\n",
              "    <th>train_loss</th>\n",
              "    <th>valid_loss</th>\n",
              "    <th>error_rate</th>\n",
              "  </tr>\n",
              "  <tr>\n",
              "    <th>1</th>\n",
              "    <th>0.430609</th>\n",
              "    <th>0.300358</th>\n",
              "    <th>0.117339</th>\n",
              "  </tr>\n",
              "  <tr>\n",
              "    <th>2</th>\n",
              "    <th>0.421707</th>\n",
              "    <th>0.299224</th>\n",
              "    <th>0.116532</th>\n",
              "  </tr>\n",
              "  <tr>\n",
              "    <th>3</th>\n",
              "    <th>0.424202</th>\n",
              "    <th>0.290908</th>\n",
              "    <th>0.113306</th>\n",
              "  </tr>\n",
              "  <tr>\n",
              "    <th>4</th>\n",
              "    <th>0.418592</th>\n",
              "    <th>0.301273</th>\n",
              "    <th>0.118548</th>\n",
              "  </tr>\n",
              "  <tr>\n",
              "    <th>5</th>\n",
              "    <th>0.427190</th>\n",
              "    <th>0.295504</th>\n",
              "    <th>0.118145</th>\n",
              "  </tr>\n",
              "  <tr>\n",
              "    <th>6</th>\n",
              "    <th>0.412434</th>\n",
              "    <th>0.303648</th>\n",
              "    <th>0.118952</th>\n",
              "  </tr>\n",
              "  <tr>\n",
              "    <th>7</th>\n",
              "    <th>0.411372</th>\n",
              "    <th>0.290878</th>\n",
              "    <th>0.122177</th>\n",
              "  </tr>\n",
              "  <tr>\n",
              "    <th>8</th>\n",
              "    <th>0.403699</th>\n",
              "    <th>0.285810</th>\n",
              "    <th>0.119355</th>\n",
              "  </tr>\n",
              "  <tr>\n",
              "    <th>9</th>\n",
              "    <th>0.400160</th>\n",
              "    <th>0.289247</th>\n",
              "    <th>0.114113</th>\n",
              "  </tr>\n",
              "  <tr>\n",
              "    <th>10</th>\n",
              "    <th>0.398836</th>\n",
              "    <th>0.287260</th>\n",
              "    <th>0.114516</th>\n",
              "  </tr>\n",
              "</table>\n"
            ],
            "text/plain": [
              "<IPython.core.display.HTML object>"
            ]
          },
          "metadata": {
            "tags": []
          }
        }
      ]
    },
    {
      "metadata": {
        "id": "qdo0c5ztwmJj",
        "colab_type": "code",
        "colab": {
          "resources": {
            "http://localhost:8080/nbextensions/google.colab/files.js": {
              "data": "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",
              "ok": true,
              "headers": [
                [
                  "content-type",
                  "application/javascript"
                ]
              ],
              "status": 200,
              "status_text": ""
            }
          },
          "base_uri": "https://localhost:8080/",
          "height": 111
        },
        "outputId": "fde121a9-7cc0-46f8-c161-9fb16ab54951"
      },
      "cell_type": "code",
      "source": [
        "from google.colab import files\n",
        "files.upload()"
      ],
      "execution_count": 77,
      "outputs": [
        {
          "output_type": "display_data",
          "data": {
            "text/html": [
              "\n",
              "     <input type=\"file\" id=\"files-683cd11e-b2a3-493e-b859-6179e40c0f3c\" name=\"files[]\" multiple disabled />\n",
              "     <output id=\"result-683cd11e-b2a3-493e-b859-6179e40c0f3c\">\n",
              "      Upload widget is only available when the cell has been executed in the\n",
              "      current browser session. Please rerun this cell to enable.\n",
              "      </output>\n",
              "      <script src=\"/nbextensions/google.colab/files.js\"></script> "
            ],
            "text/plain": [
              "<IPython.core.display.HTML object>"
            ]
          },
          "metadata": {
            "tags": []
          }
        },
        {
          "output_type": "stream",
          "text": [
            "Saving test_data.zip to test_data.zip\n"
          ],
          "name": "stdout"
        },
        {
          "output_type": "execute_result",
          "data": {
            "text/plain": [
              "{'test_data.zip': b'PK\\x03\\x04\\x14\\x00\\x00\\x00\\x00\\x00Jh+N\\x00\\x00\\x00\\x00\\x00\\x00\\x00\\x00\\x00\\x00\\x00\\x00\\n\\x00\\x00\\x00test_data/PK\\x03\\x04\\n\\x00\\x00\\x00\\x00\\x00\\x1ce+N\\xb4V(\\xadn\\x03\\x00\\x00n\\x03\\x00\\x00\\x14\\x00\\x00\\x00test_data/Ta (1).jpg\\xff\\xd8\\xff\\xe0\\x00\\x10JFIF\\x00\\x01\\x01\\x00\\x00\\x01\\x00\\x01\\x00\\x00\\xff\\xdb\\x00C\\x00\\x08\\x06\\x06\\x07\\x06\\x05\\x08\\x07\\x07\\x07\\t\\t\\x08\\n\\x0c\\x14\\r\\x0c\\x0b\\x0b\\x0c\\x19\\x12\\x13\\x0f\\x14\\x1d\\x1a\\x1f\\x1e\\x1d\\x1a\\x1c\\x1c $.\\' \",#\\x1c\\x1c(7),01444\\x1f\\'9=82<.342\\xff\\xc0\\x00\\x0b\\x08\\x00\\'\\x00#\\x01\\x01\\x11\\x00\\xff\\xc4\\x00\\x1f\\x00\\x00\\x01\\x05\\x01\\x01\\x01\\x01\\x01\\x01\\x00\\x00\\x00\\x00\\x00\\x00\\x00\\x00\\x01\\x02\\x03\\x04\\x05\\x06\\x07\\x08\\t\\n\\x0b\\xff\\xc4\\x00\\xb5\\x10\\x00\\x02\\x01\\x03\\x03\\x02\\x04\\x03\\x05\\x05\\x04\\x04\\x00\\x00\\x01}\\x01\\x02\\x03\\x00\\x04\\x11\\x05\\x12!1A\\x06\\x13Qa\\x07\"q\\x142\\x81\\x91\\xa1\\x08#B\\xb1\\xc1\\x15R\\xd1\\xf0$3br\\x82\\t\\n\\x16\\x17\\x18\\x19\\x1a%&\\'()*456789:CDEFGHIJSTUVWXYZcdefghijstuvwxyz\\x83\\x84\\x85\\x86\\x87\\x88\\x89\\x8a\\x92\\x93\\x94\\x95\\x96\\x97\\x98\\x99\\x9a\\xa2\\xa3\\xa4\\xa5\\xa6\\xa7\\xa8\\xa9\\xaa\\xb2\\xb3\\xb4\\xb5\\xb6\\xb7\\xb8\\xb9\\xba\\xc2\\xc3\\xc4\\xc5\\xc6\\xc7\\xc8\\xc9\\xca\\xd2\\xd3\\xd4\\xd5\\xd6\\xd7\\xd8\\xd9\\xda\\xe1\\xe2\\xe3\\xe4\\xe5\\xe6\\xe7\\xe8\\xe9\\xea\\xf1\\xf2\\xf3\\xf4\\xf5\\xf6\\xf7\\xf8\\xf9\\xfa\\xff\\xda\\x00\\x08\\x01\\x01\\x00\\x00?\\x00\\xf7\\xfa(\\xa2\\x8a+\\x83\\xf8\\xa9w}\\x16\\x97\\xa0XX\\xea7zx\\xd55\\xdb[\\x1b\\x89\\xed\\x1f\\xcb\\x94D\\xfb\\x89\\n\\xf8\\xca\\x9c\\xa8\\xe4z`\\xe4\\x12\\x0f\\x92M\\xf0\\xdb\\xc2\\xda\\x7f\\xc6\\x8b\\x0f\\x05\\xc5$\\xf7\\xd67\\xba|\\x86w\\x9a\\xe0\\x19\\xadf\\xd9#\\x82\\xa5\\x02\\x80\\xc0\"\\x10\\x1c0\\xc3\\xe4\\x83\\x91\\x8e\\xff\\x00G\\xf1U\\xe5\\xcf\\x80~ iRjs\\xcd\\xa9xo\\xed\\xd6\\xb0\\xdd1\"s\\n\\xa3\\x88dy\\x06\\x01\\x93(\\xe3p\\xc1\\xf9A<\\x9c\\x9eo\\xc1\\xff\\x00\\x05\\xb4\\x1f\\x18xN\\xc3^\\xd5n\\xbcAoqv\\x8cR\\x17\\xb8BR\\x15b\\x90\\x8c\\xb4Y#\\xcaX\\xf0x\\x04c\\x00\\x0c\\n\\x83\\xc0\\xbf\\x16<y\\xafk7\\x0b\\x06\\x9b&\\xbe\\x8e\\x9b\\xde\\xd6;T\\xb7\\x8e\\xd9\\xcb>\\xd8\\xc4\\xfb\\xb0\\x88Pgt\\x81\\x89)\\xb0\\x0ew\\xd7o\\xa9\\\\x\\x87\\xc5\\x96\\xeb\\xa5\\xf8\\xa7\\xe1L\\x92il\\xe1\\xdc\\xc5\\xad[\\xc9\"0\\x07iA\\xb9\\x089\\xe0\\x90\\xc3\\x82z\\xf4<\\xdd\\xc4\\xf2\\xfc+\\xb3\\x8e}\\x0b\\xe1\\xf6\\xb9y\\xa9^E\\xf6C\\xa9\\xeaw\\t;\\xae\\n\\xa4(|\\x86p\\x17,\\x8a\\x10y{\\xb6 \\x19##\"kMw\\xc2\\xff\\x00\\tot\\x1dB\\rUo\\xbcO\\xa8[\\xb4Z\\x8b\\x01\\xcc\\x97\\t\\x0bK\\x1c\\xa8\\xae\\xd3\\xee\\xf9&F\\x1b\\tlt\\xf9\\xb1^\\xef\\xa1i\\xff\\x00\\xd9\\x1e\\x1e\\xd34\\xdcc\\xecv\\x91[\\xe3\\xcc\\xf31\\xb1\\x02\\xfd\\xed\\xab\\xbb\\xa7]\\xab\\x9fA\\xd2\\xbc\\xfd\\xfe\\x0f\\xa7\\x87\\xef.\\xb5o\\x00k3\\xe8Z\\x9c\\xb1\\x18\\x84s\"\\xdc\\xc0S\\x00\\xec\\xf9\\xd4\\xb2\\xe5\\xd5Il\\xb69\\xc0\\xec#\\x92\\xcb\\xe3e\\xee\\x97\\x0c\\x0b\\xa9\\xf8b\\xc2x\\x9fk\\\\*\\xbbK0\\\\\\xae\\xe6\\x05\\x1d\\x00~\\x1f\\x85\\x07\\x91\\xc2\\xf2\\xb5c\\xc2\\xff\\x00\\t\\xcd\\x97\\x89S\\xc4\\xbe(\\xd5\\xa4\\xd6\\xf58\\xd1M\\xac2\\x19\\x1e+&\\xc9l#J\\xec\\xee\\x14\\x9f\\x90\\xb61\\xcbcv\\x08\\xcf\\xf8\\x8d<\\xda\\xc7\\xc5\\xef\\x00\\xf8n\\xd6Y#{{\\x8f\\xedI\\x95\\xd8\\x88\\x9dQ\\xb7\\x0e\\x99\\xcb\\x85\\x86P28\\xde9\\xe4\\xe3\\xd7(\\xa2\\x8a\\xcf\\xfe\\xc2\\xd1\\xff\\x00\\xb6?\\xb5\\xff\\x00\\xb2\\xac\\x7f\\xb4\\xff\\x00\\xe7\\xf7\\xec\\xe9\\xe7}\\xdd\\xbf\\x7f\\x1b\\xbe\\xef\\x1dzqZ\\x15\\xff\\xd9PK\\x03\\x04\\n\\x00\\x00\\x00\\x00\\x00\\x0cf+N\\x02WYI\\x98\\x03\\x00\\x00\\x98\\x03\\x00\\x00\\x15\\x00\\x00\\x00test_data/Ta (10).jpg\\xff\\xd8\\xff\\xe0\\x00\\x10JFIF\\x00\\x01\\x01\\x00\\x00\\x01\\x00\\x01\\x00\\x00\\xff\\xdb\\x00C\\x00\\x08\\x06\\x06\\x07\\x06\\x05\\x08\\x07\\x07\\x07\\t\\t\\x08\\n\\x0c\\x14\\r\\x0c\\x0b\\x0b\\x0c\\x19\\x12\\x13\\x0f\\x14\\x1d\\x1a\\x1f\\x1e\\x1d\\x1a\\x1c\\x1c $.\\' \",#\\x1c\\x1c(7),01444\\x1f\\'9=82<.342\\xff\\xc0\\x00\\x0b\\x08\\x00\\x1a\\x002\\x01\\x01\\x11\\x00\\xff\\xc4\\x00\\x1f\\x00\\x00\\x01\\x05\\x01\\x01\\x01\\x01\\x01\\x01\\x00\\x00\\x00\\x00\\x00\\x00\\x00\\x00\\x01\\x02\\x03\\x04\\x05\\x06\\x07\\x08\\t\\n\\x0b\\xff\\xc4\\x00\\xb5\\x10\\x00\\x02\\x01\\x03\\x03\\x02\\x04\\x03\\x05\\x05\\x04\\x04\\x00\\x00\\x01}\\x01\\x02\\x03\\x00\\x04\\x11\\x05\\x12!1A\\x06\\x13Qa\\x07\"q\\x142\\x81\\x91\\xa1\\x08#B\\xb1\\xc1\\x15R\\xd1\\xf0$3br\\x82\\t\\n\\x16\\x17\\x18\\x19\\x1a%&\\'()*456789:CDEFGHIJSTUVWXYZcdefghijstuvwxyz\\x83\\x84\\x85\\x86\\x87\\x88\\x89\\x8a\\x92\\x93\\x94\\x95\\x96\\x97\\x98\\x99\\x9a\\xa2\\xa3\\xa4\\xa5\\xa6\\xa7\\xa8\\xa9\\xaa\\xb2\\xb3\\xb4\\xb5\\xb6\\xb7\\xb8\\xb9\\xba\\xc2\\xc3\\xc4\\xc5\\xc6\\xc7\\xc8\\xc9\\xca\\xd2\\xd3\\xd4\\xd5\\xd6\\xd7\\xd8\\xd9\\xda\\xe1\\xe2\\xe3\\xe4\\xe5\\xe6\\xe7\\xe8\\xe9\\xea\\xf1\\xf2\\xf3\\xf4\\xf5\\xf6\\xf7\\xf8\\xf9\\xfa\\xff\\xda\\x00\\x08\\x01\\x01\\x00\\x00?\\x00\\xb7\\xf1\\x07\\xe3\\x1e\\xb5\\xff\\x00\\t,\\xde\\x15\\xf0-\\xa4\\x92\\xdeB\\xed\\x0c\\xd7\\x0blf\\x94\\xca\\x87,\\xb1G\\x820\\xa1X\\x12T\\xe7\\x9c\\x00\\x00c\\xc8O\\xe3\\x9f\\x8d\\xb6\\xb6\\xf2\\xdc\\\\E\\xac\\xc3\\x04H^I$\\xd1\\x11U\\x14\\x0c\\x92I\\x8b\\x00\\x01\\xcek/\\xfe\\x17\\xaf\\x8f\\xbf\\xb3\\xbe\\xcd\\xfd\\xa9\\x07\\x9d\\xe6\\xf9\\x9fk\\xfb$~f\\xdccf6\\xec\\xdb\\x9e~\\xee\\xec\\xf7\\xc7\\x15%\\xe7\\xc5\\x7f\\x8a\\xba}\\xbd\\xad\\xc5\\xee\\xa3wm\\x05\\xdao\\xb6\\x92m2\\x14Y\\x97\\x00\\xe5\\t\\x8f\\x0c0\\xc0\\xe4z\\x8fZ \\xf8\\xc5\\xf17X\\xbf\\x8a\\xd7M\\xd4$\\x96\\xe1\\xd0*[\\xdai\\xf1H\\xceU>f\\x03a$\\x9d\\xa5\\x8e8\\x198\\x00p$\\xd3>\\'\\xfc[\\xd6\\xfc\\xdf\\xec\\x9b\\xbb\\xeb\\xff\\x00\\'\\x1eg\\xd94\\xa8\\xa5\\xd9\\x9c\\xe3;b8\\xce\\x0f_C_W\\xd7\\xc9\\x9a_\\x89\\xbcC\\xa2\\xfc\\\\\\xf1N\\xa7\\xe1M\\x1eMJ\\xee{\\x8b\\xb5h$\\xb2\\x99\\xd9bi\\xc3n1\\xae\\xd7R\\x08Q\\xcfL\\xe0\\x8c\\xd7\\xa1\\xf8w\\xe2\\x85\\xe7\\x8f\\xfe\\x1ex\\xe6\\xd7V\\x82\\xc6\\xde\\xfa\\xd3J\\x9eH\\xc5\\xb3\\x15\\xf3ch\\x9c\\x1f\\x91\\x89?)\\x03,\\x0e>u\\x18\\x1d\\xf8\\rF\\xd6\\xce\\xdf\\xf6l\\xd2e\\xb6\\xb8\\xf3f\\xb9\\xf1\\x03Kt\\x9b\\xc3yR\\x08\\xe5@\\xb8\\x1fw\\xe4Dl\\x1e~l\\xf4\"\\xb4>/\\xff\\x00\\xc9<\\xf8c\\xff\\x00`\\xa3\\xff\\x00\\xa2\\xad\\xebr\\x18!\\xb6\\xfd\\xaeJA\\x14q!vr\\xa8\\xa1Af\\xb2,\\xc7\\x8e\\xe5\\x89$\\xf7$\\x9a\\x7f\\xec\\xcb\\xff\\x003O\\xfd\\xba\\x7f\\xedj\\xfa\\x02\\xbeX\\x83\\xc7W\\x9f\\r>/\\xf8\\xbe\\xea]:{\\x98\\xee\\xae\\xee\\x15\\xad\\x1es\\x00;\\xa6\\xdf\\x1c\\x87\\xe59\\xf9I\\xc1\\xc7G\\xc88<\\xd8\\xf8_e\\xae\\xeb\\xdaw\\xc4=q\\xe1\\xfbO\\xdbt\\xab\\xa8]\\xd6\\xd8\\x19..\\xa4\\x05\\xf6\\xc6B\\xfdw\"\\x91\\xcb\\xc7\\xc1\\xe3\\x1e\\x7f\\xff\\x00\\t?\\xfc[\\xcf\\xf8E>\\xc7\\xff\\x001_\\xed/\\xb5y\\xbf\\xf4\\xcb\\xcb\\xd9\\xb3\\x1f\\x8es\\xed\\x8a\\xf4\\x8f\\x8c\\xb6\\x17\\x96\\xff\\x00\\x0f>\\x1c\\xf9\\xf6\\x93\\xc5\\xf6m?\\xc8\\x9f|e|\\xa9\\x0cP\\xe1\\x1b?u\\xbeF\\xe0\\xf3\\xf2\\x9fCQ\\xf8\\x13_\\x9b\\xc6\\xff\\x00\\xb4U\\xb7\\x88\\xa2\\xd3\\xa4\\xb7I\\x11\\xdeX\\x95\\x8c\\xa2\\x15[S\\x16Y\\xb6\\x8e\\x0bm\\xe4\\x81\\xcb\\x01[\\x7f\\xb3/\\xfc\\xcd?\\xf6\\xe9\\xff\\x00\\xb5\\xab\\xe8\\n(\\xa2\\x8a(\\xa2\\xbf\\xff\\xd9PK\\x03\\x04\\n\\x00\\x00\\x00\\x00\\x00\\x02h+NO{`\\xa0\\x11\\x02\\x00\\x00\\x11\\x02\\x00\\x00\\x15\\x00\\x00\\x00test_data/Ta (20).jpg\\xff\\xd8\\xff\\xe0\\x00\\x10JFIF\\x00\\x01\\x01\\x00\\x00\\x01\\x00\\x01\\x00\\x00\\xff\\xdb\\x00C\\x00\\x08\\x06\\x06\\x07\\x06\\x05\\x08\\x07\\x07\\x07\\t\\t\\x08\\n\\x0c\\x14\\r\\x0c\\x0b\\x0b\\x0c\\x19\\x12\\x13\\x0f\\x14\\x1d\\x1a\\x1f\\x1e\\x1d\\x1a\\x1c\\x1c $.\\' \",#\\x1c\\x1c(7),01444\\x1f\\'9=82<.342\\xff\\xc0\\x00\\x0b\\x08\\x00\\r\\x00\\x13\\x01\\x01\\x11\\x00\\xff\\xc4\\x00\\x1f\\x00\\x00\\x01\\x05\\x01\\x01\\x01\\x01\\x01\\x01\\x00\\x00\\x00\\x00\\x00\\x00\\x00\\x00\\x01\\x02\\x03\\x04\\x05\\x06\\x07\\x08\\t\\n\\x0b\\xff\\xc4\\x00\\xb5\\x10\\x00\\x02\\x01\\x03\\x03\\x02\\x04\\x03\\x05\\x05\\x04\\x04\\x00\\x00\\x01}\\x01\\x02\\x03\\x00\\x04\\x11\\x05\\x12!1A\\x06\\x13Qa\\x07\"q\\x142\\x81\\x91\\xa1\\x08#B\\xb1\\xc1\\x15R\\xd1\\xf0$3br\\x82\\t\\n\\x16\\x17\\x18\\x19\\x1a%&\\'()*456789:CDEFGHIJSTUVWXYZcdefghijstuvwxyz\\x83\\x84\\x85\\x86\\x87\\x88\\x89\\x8a\\x92\\x93\\x94\\x95\\x96\\x97\\x98\\x99\\x9a\\xa2\\xa3\\xa4\\xa5\\xa6\\xa7\\xa8\\xa9\\xaa\\xb2\\xb3\\xb4\\xb5\\xb6\\xb7\\xb8\\xb9\\xba\\xc2\\xc3\\xc4\\xc5\\xc6\\xc7\\xc8\\xc9\\xca\\xd2\\xd3\\xd4\\xd5\\xd6\\xd7\\xd8\\xd9\\xda\\xe1\\xe2\\xe3\\xe4\\xe5\\xe6\\xe7\\xe8\\xe9\\xea\\xf1\\xf2\\xf3\\xf4\\xf5\\xf6\\xf7\\xf8\\xf9\\xfa\\xff\\xda\\x00\\x08\\x01\\x01\\x00\\x00?\\x00\\xf4Mw\\xe2\\xae\\x8f\\xa0^4\\x17:~\\xa1$B\\xf0\\xd8\\x8b\\x98\\xda\\xdcDf\\x00\\x16\\\\\\xbc\\xaaT.FY\\x80\\x03\\xd6\\xb0\\xb5\\xdf\\x13\\xe9\\x9e&\\xf1G\\x85l\\xafay\\xb4+\\xb8\\xaene\\xb5Y\\xe1\\x966h\\x8f\\r?\\x96\\xec\\x8f\\x1a\\xedc\\x80\\xc4dr\\t\\x18\\x17\\xfc%\\xe0\\xa37\\x86mn#\\xbc\\xbe\\xd3#\\xb8i.\\x12\\xca9\\x08XU\\xe4g\\n\\x02\\xb0\\x18\\xc3\\x0cb\\xbc\\x93\\xc5\\xde \\xd3\\xf4+\\x9d\\x16\\xdbP\\xd1\\x97W\\xbc\\xb7\\xb1{\\xb4y\\xe5U\\xb7{\\x8b\\x82Y\\xa4\\x92\\x1d\\x87~\\x08\\x1cn\\xe7h\\xcdQ\\xf8acowm\\xaf\\\\@\\x82)~\\xcfm\\xa7\\xe6O\\xdeef\\x7f\\xde\\xb1\\x1c\\x0eU\\x19@\\xec\\x1b\\x9c\\xe0\\x93\\xf5t\\x10\\xc7m\\x04pB\\x81\"\\x8dB\"\\x8e\\x8a\\x00\\xc0\\x15\\xff\\xd9PK\\x03\\x04\\n\\x00\\x00\\x00\\x00\\x00\\x1ce+N\\r\\xf2x\\x88\\x07\\x07\\x00\\x00\\x07\\x07\\x00\\x00\\x14\\x00\\x00\\x00test_data/Ta (4).jpg\\xff\\xd8\\xff\\xe0\\x00\\x10JFIF\\x00\\x01\\x01\\x00\\x00\\x01\\x00\\x01\\x00\\x00\\xff\\xdb\\x00C\\x00\\x08\\x06\\x06\\x07\\x06\\x05\\x08\\x07\\x07\\x07\\t\\t\\x08\\n\\x0c\\x14\\r\\x0c\\x0b\\x0b\\x0c\\x19\\x12\\x13\\x0f\\x14\\x1d\\x1a\\x1f\\x1e\\x1d\\x1a\\x1c\\x1c $.\\' \",#\\x1c\\x1c(7),01444\\x1f\\'9=82<.342\\xff\\xc0\\x00\\x0b\\x08\\x004\\x00E\\x01\\x01\\x11\\x00\\xff\\xc4\\x00\\x1f\\x00\\x00\\x01\\x05\\x01\\x01\\x01\\x01\\x01\\x01\\x00\\x00\\x00\\x00\\x00\\x00\\x00\\x00\\x01\\x02\\x03\\x04\\x05\\x06\\x07\\x08\\t\\n\\x0b\\xff\\xc4\\x00\\xb5\\x10\\x00\\x02\\x01\\x03\\x03\\x02\\x04\\x03\\x05\\x05\\x04\\x04\\x00\\x00\\x01}\\x01\\x02\\x03\\x00\\x04\\x11\\x05\\x12!1A\\x06\\x13Qa\\x07\"q\\x142\\x81\\x91\\xa1\\x08#B\\xb1\\xc1\\x15R\\xd1\\xf0$3br\\x82\\t\\n\\x16\\x17\\x18\\x19\\x1a%&\\'()*456789:CDEFGHIJSTUVWXYZcdefghijstuvwxyz\\x83\\x84\\x85\\x86\\x87\\x88\\x89\\x8a\\x92\\x93\\x94\\x95\\x96\\x97\\x98\\x99\\x9a\\xa2\\xa3\\xa4\\xa5\\xa6\\xa7\\xa8\\xa9\\xaa\\xb2\\xb3\\xb4\\xb5\\xb6\\xb7\\xb8\\xb9\\xba\\xc2\\xc3\\xc4\\xc5\\xc6\\xc7\\xc8\\xc9\\xca\\xd2\\xd3\\xd4\\xd5\\xd6\\xd7\\xd8\\xd9\\xda\\xe1\\xe2\\xe3\\xe4\\xe5\\xe6\\xe7\\xe8\\xe9\\xea\\xf1\\xf2\\xf3\\xf4\\xf5\\xf6\\xf7\\xf8\\xf9\\xfa\\xff\\xda\\x00\\x08\\x01\\x01\\x00\\x00?\\x00\\xf7\\xfa(\\xac\\x7f\\x13\\xf8\\x9fK\\xf0\\x8e\\x876\\xaf\\xab\\xcf\\xe5[\\xc7\\xc2\\xaa\\xf2\\xf2\\xb9\\xe8\\x88;\\xb1\\xc1\\xfc\\x89$\\x00H\\xf9\\xa3Y\\xf8\\xf7\\xe3mCQy\\xb4\\xeb\\xa84\\xbb^B[\\xc3\\x04r\\xe0d\\x90Y\\xa4RK`\\x80H\\xc08\\xe8*\\xc7\\x87\\xbfh\\x1f\\x17i\\x97\\x85\\xb5\\x8f#Y\\xb5n\\xb1\\xbci\\x03\\xae\\x01\\xfb\\xac\\x8b\\x81\\x92Fw+t\\xc0\\xc6s^\\xff\\x00\\xe0_\\x1di~<\\xd0\\xc5\\xfd\\x81\\xf2\\xae#\\xc2\\xddZ;e\\xed\\xdc\\xf6>\\xaapp\\xdd\\xf1\\xd8\\x82\\x06\\x1f\\xc6\\x7f\\x16\\xea\\xfe\\x0e\\xf0T7\\xba,\\xd1\\xc1w=\\xecv\\xfesF\\x1c\\xa2\\x95w%Cdg\\xe4\\x03\\x90x\\'\\xbe\\x08\\xf1M3\\xe3\\xf7\\x8el<\\xdf\\xb4\\xdcX\\xea[\\xf1\\xb7\\xedv\\xa1|\\xbcg8\\xf2\\x8au\\xcf|\\xf4\\x18\\xc79\\xfa\\xbe\\x8a+\\xe5O\\x8d\\xfa\\xfa\\xf8\\xab\\xe24Zn\\x94\\xd7w\"\\xc1>\\xc2 \\n\\xc45\\xcf\\x98\\xc1\\xc4i\\xd4\\x92v.q\\x92S\\x8c\\x80\\t\\xf3}WJ\\xbe\\xd0\\xf5K\\x8d3S\\xb6\\x92\\xda\\xf2\\xdd\\xf6K\\x13\\xf5S\\xfc\\x88#\\x04\\x11\\xc1\\x04\\x11\\x90k\\xb0\\xf0\\xe7\\xc39\\xbcI\\xf0\\xe7Y\\xf1d\\x1a\\xa4p\\xbe\\x98\\xf2\\x83h\\xf0\\x92$X\\xe3Y\\x18\\xef\\x07\\x83\\xb5\\x8e\\x06\\xd3\\xc8\\x1c\\x8c\\xe4\\x1f\\x07\\xfcK7\\x86\\xbe#i\\xc6+x\\xe7MI\\xd7N\\x941 \\xaa\\xcb\"|\\xca}C\\x05<\\xf5\\x19\\x1cg#\\xd8\\xff\\x00h\\xef\\xf9\\'\\x9a\\x7f\\xfd\\x85c\\xff\\x00\\xd1R\\xd7\\xcc\\x15\\xf7\\xfd\\x14W\\xc9\\x9f\\x19|57\\x83\\xfe#6\\xa3cqv\\x13Qs\\xa8\\xc3q\\x82\\x86)\\x8c\\x84\\xba\\xa3\\x8e\\xa5[\\x0c1\\x82\\x03.}O\\x9f\\xea\\xba\\xad\\xf6\\xb9\\xaa\\\\jz\\x9d\\xcc\\x977\\x97\\x0f\\xbeY_\\xab\\x1f\\xe4\\x00\\x18\\x00\\x0e\\x00\\x00\\x0c\\x01^\\xc1\\xe0_\\x16\\xe8\\xd0\\xfc(\\xf1\\x17\\x864\\xad+Y\\x9bP\\x93L\\xbb\\xbc\\xbdfx\\x0cQ\\xe6!\\x1b:\\xb1d;8C\\xb7k0\\xc9\\x03v3^g\\xe0O\\xf9(~\\x1a\\xff\\x00\\xb0\\xad\\xaf\\xfe\\x8dZ\\xf4\\xcf\\xdaCU\\xbeo\\x15i\\x9a9\\xb9\\x93\\xfb=,\\x96\\xe8[\\x8e\\x17\\xcdg\\x91K\\x9fS\\xb5@\\x19\\xe9\\xce1\\x93\\x98\\xfe\\x07x\\'\\xc2>1\\xd3\\xb5\\x8f\\xed\\xbd>{\\xcb\\xebYc\\xc6\\xe9\\x9e8\\xd66\\r\\xb7n\\xc6\\x04\\xb1*\\xf9\\xcf\\x18\\x0b\\x8e\\xf5^\\x0f\\x8d?\\x11u\\xddsQ\\xfe\\xc1\\xb3\\xf3\\xe3\\x96\\'\\xf2l \\xb2\\xfbA\\xb4^\\x00\\x90\\x15\\x1b\\x99\\x87\\x1c\\xb6W-\\xf7q\\x809\\xff\\x00\\xf8\\xbb\\xff\\x00\\xf5<\\xff\\x00\\xe4\\xddt\\x9e\\x1a\\xf1\\x87\\xc6/\\r\\xdb\\xcf\\x01\\xf0\\xfe\\xb3\\xaa\\xa4\\xae\\x1c\\x1dR\\xc2\\xe6f\\x8c\\xe3\\x07kd\\x1c\\x1e8$\\x8e8\\xc6Ny;\\xedc\\xc6\\xdf\\x185\\xc8,\\x8a\\x7fh\\\\C\\xe6\\xcboo\\x0cQ\\xc4\\x96\\xe8\\xd8-\\xf3\\x1caxP\\x0b\\xb1\\xec2I\\xe7.H<Q\\xf0\\xcf\\xc5\\x90\\xbc\\xb1I\\xa5\\xeb\\x16\\xc9\\xbe&eI\\x06\\xd7R\\xb9_\\xbc\\x8c\\x08,23\\x83\\x91\\xd4q\\x97\\xa5kz\\x8e\\x89\\xf6\\xdf\\xec\\xeb\\x8f\\'\\xed\\xd6\\x92Y\\\\|\\x8a\\xdb\\xe1|n^A\\xc6p9\\x18>\\xf4i\\x9a\\x16\\xb1\\xad\\xf9\\xbf\\xd9:U\\xf5\\xff\\x00\\x93\\x8f3\\xec\\x96\\xef.\\xcc\\xe7\\x19\\xda\\x0e3\\x83\\xd7\\xd0\\xd4z\\xac\\xfa\\x95\\xce\\xa9p\\xfa\\xc4\\xb7r\\xea\\x01\\xf6N\\xd7l\\xcd(e\\xf9p\\xdb\\xb9\\xc8\\xc60zc\\x15\\xf4\\x7f\\xec\\xdf\\x04+\\xe0]N\\xe1b\\x8cN\\xfa\\x9b#\\xc8\\x14neX\\xa3*\\t\\xea@,\\xc4\\x0e\\xdb\\x8f\\xadq\\x1e\\x1a\\xd7&\\xf8\\x11\\xe3\\xcd_D\\xd6md\\xbd\\xd3\\xee\\x926\\xfbM\\xbce]\\xd5C\\x18\\xdd\\x03\\x10\\x08\\xf9\\x99Xg\\x82\\x0e\\x18\\xed\\xc3{>\\x81\\xf1[\\xc1\\xbe \\xd2\\xd6\\xf9u\\xabM<\\xef(\\xd6\\xfa\\x8c\\xf1\\xc1*\\x91\\xec[\\x04\\x11\\x82\\x08$s\\x8e\\xa0\\x81\\xd2i\\x9a\\xee\\x8f\\xad\\xf9\\xbf\\xd9:\\xad\\x8d\\xff\\x00\\x93\\x8f3\\xec\\x97\\t.\\xcc\\xe7\\x19\\xdaN3\\x83\\xd7\\xd0\\xd5\\xc9\\xe7\\x86\\xd6\\xde[\\x8b\\x89c\\x86\\x08\\x90\\xbc\\x92H\\xc1U\\x14\\x0c\\x92I\\xe0\\x009\\xcd|\\xc9\\x7f\\xfbDx\\x92\\xf3\\xed0\\x7fbhmc6\\xf4\\xf2.!\\x92\\\\\\xc6r6\\xb9\\xde\\x03ppx\\x00\\xfa\\x0e\\x95\\xe6\\xfe\\x18\\xf0\\xc6\\xa9\\xe2\\xedr\\x1d#H\\x83\\xcd\\xb8\\x93\\x96f\\xe1\"A\\xd5\\xdc\\xf6Q\\x91\\xf9\\x80\\x01$\\x03\\xf5\\xbf\\xc3_\\x04\\x7f\\xc2\\x05\\xe1%\\xd2\\xa4\\xba\\xfbM\\xd4\\xb2\\x9b\\x9b\\x97Q\\x84\\x122\\xaa\\x95N3\\xb4\\x05\\x03\\'\\x93\\xc9\\xe38\\x1f(x\\xef\\xfeJ\\x1f\\x89\\x7f\\xec+u\\xff\\x00\\xa3Z\\xbe\\x97\\xf8\\x15coi\\xf0\\xa3M\\x9a\\x08\\xf6Iw,\\xf3Nw\\x13\\xbd\\xc4\\x8d\\x18<\\xf4\\xf9QG\\x1e\\x9e\\xb9\\xae\\xb3\\xc4\\xbe\\x0f\\xd0<ao\\x04\\x1a\\xf6\\x9b\\x1d\\xe2@\\xe5\\xe2%\\xd9\\x19\\t\\x188e \\xe0\\xf1\\x91\\x9c\\x1c\\x0fA^O\\xaf\\xfe\\xcd\\xfai\\xd2\\xd8\\xf8sU\\xbb]@8 j2+D\\xcb\\xdce\\x10\\x15=\\xc1\\xe7\\xa61\\xceG(\\x9f\\x04\\xfe$\\xf8jV\\xba\\xd1/\\xe0\\xfbCDC6\\x9b~\\xf0\\xbb\\r\\xc9\\xf2e\\x82u\\xce\\xee\\xb8\\xfd\\xd9\\xe7;A\\xcb\\x87\\xe0\\x8f\\xc4MWT-\\x7fa\\x1c\\x0f;\\xb3\\xcbyw{\\x1b\\x8d\\xc7$\\x96(\\xcc\\xe4\\x93\\xdf\\x07\\x93\\xcfs]\\xdd\\x8f\\xec\\xd1g\\x1d\\xe4m\\x7f\\xe2y\\xe7\\xb5\\x19\\xdf\\x1c\\x16b\\'n\\x0e0\\xc5\\xd8\\x0eq\\xfc\\'\\xd3\\x8e\\xb5\\xeb\\x9a\\x07\\x83\\xbc9\\xe1dU\\xd1t{KG\\x08S\\xceT\\xdd+)m\\xc44\\x8d\\x97a\\x9cpI\\xe8=\\x05hj\\xd7\\x93i\\xda5\\xf5\\xed\\xbd\\xa4\\x97\\x93\\xdb\\xdb\\xc9,v\\xd1\\xe7t\\xcc\\xaaHA\\x80NI\\x18\\xe8z\\xf45\\xf0\\xc6\\xad\\xa9M\\xac\\xeb7\\xda\\xa5\\xc2\\xc6\\xb3\\xde\\xdcIq\"\\xc6\\x08P\\xce\\xc5\\x88\\x19$\\xe3\\'\\xd4\\xd7\\xdb\\xfe\\x1c\\xd0,|-\\xe1\\xfb=\\x17MY\\x05\\xa5\\xaa\\x15O1\\xb73\\x12K3\\x13\\xeaX\\x93\\xc6\\x07<\\x008\\xadJ(\\xa2\\x8a(\\xae]\\xfe\\x1c\\xf8:]r\\xebY\\x9b\\xc3\\xb63\\xdf]d\\xcc\\xd3G\\xe6#\\x13\\x82[\\xcbl\\xa0bFK\\x01\\x93\\x93\\xcf\\'=E\\x7f\\xff\\xd9PK\\x03\\x04\\x14\\x00\\x00\\x00\\x08\\x00,e+N\\xf3\\xf5\\\\\\x90\\xcd\\x03\\x00\\x00r\\x04\\x00\\x00\\x13\\x00\\x00\\x00test_data/Ta(1).jpg\\x9d\\x91iPRQ\\x14\\x80\\xef\\xe3\\x01\\xef\\x89X\\x81\\x91KMNf\\xda\"\\xd3\\xa2\\xa9\\x95ce+\\xb6\\rZR\\xd0f\\x0bEf\\x05-TTNZ&m\\x86$\\xb4L\\xd3X\\x9aQZ\\x99Q\\xe6\\xa4\\x86\\t\\x96\\x939@\\xa2\\x92EXRZ\\x93\\x90i\\xb4\\xe8\\xeb\\xd1\\xb4\\xfc\\xe9G\\xf5\\xddsg\\xee\\xcc9\\xe7\\xce\\xf9\\xe6`\\r\\xd8s\\xd0\\'f:k:\\x80 \\x08,\\xc7\\x0f\\xc0\\x9e\\x80)\\x80\\x00A\\xae\\xf8\\x01L\\x82]\\x90\\x89D\\x98\\x84\\x90\\x11\\xc4uQ7w7\\x14\\xa5\\xa0\\x08B\\xf1\\xa0P\\xdc\\xa98\\x88[\\xaf\\xde\\x1e\\xd4^\\xae\\xb7\\xeb\\x13W\\xbb\\xab\\x0b\\x0f*\\x8a\\xa0\\xd4\\x7f\\x06\\xbb\\x0bh(\\xf0\\x04\\x03a\\xc8\\x1f\\x10h\\x10L\\x83\\xb0J\\xe0\\x07\\x00D\\x82\\xbe\\x03~\\x00\\x11`\"\\x89\\x8c\\x8fDq\\xc7\\x0b\\xd4}\\xf0\\xf1a\\x98\\x80\\x0fK\"\\x12\\xf1\\xecn<\\x0f\\x884\\x12}\\xd0\\xe8\\xc9dOv\\x02\\xe2/\\xec;f\\xaf,\\x1b\\x1d\\x1c]\\xa8a\\xc4\\xea\\xed\\x01!+D)n\\x94~^\\xde>\\xbeC\\x02\\x83\\x86\\x0e\\x1b\\x1e:6,<b\\xdc\\xf8)S\\xa7M\\x9f1\\x93\\x15\\x137\\x7fA<g\\xe1\"\\xee\\xcaU\\xab\\xf9k\\xd6\\n\\xd6m\\xde\\xb2u\\x9bx\\xfb\\x8e\\x9d\\xa9\\xfb\\xf6\\xa7\\x1dH\\x97\\x1e\\xcc\\x94\\x1f\\xcfR(O\\x9c<u\\xee|N\\xee\\x85\\xbc\\x8b\\xaaK\\xd7\\x8bn\\xa8o\\xde*\\xbe]Rq\\xafR\\xab\\xab\\xba\\xff\\xa0\\xda`|\\\\g\\xaaoh4[\\x9b_\\xbcl\\xb1\\xbdz\\xdd\\xda\\xe6x\\xdf\\xf1\\xa1\\xb3\\xeb\\xa3\\xf3\\xd3g\\x97\\x17\\x04`\\xe8\\'\\x7f\\xf4\\xa2\\xe1^\\x04|\\x07D\\x04\\xf7\\xc2\\x93bW\\x01\\x8dH\\x1a4\\x9aL\\x9f\\xccF\\x12\\x84\\x9e\\xfec\\xf6\\xa2}\\xa3e\\xd9\\x85\\x1a\\xb7\\xc1!\\xb1v\\xc6\\n\\x91\\x9e\\xd2/ \\xd4:\\xc4\\xe1R\\xfbn\\xf6wb)\\xffe\\xf6K\\xec\\xb7\\x97\\x19Pa\\x08_\\x1eL\\x03\\x13A\\xf7\\xdd\\xee\\xdcr\\x81\\x05\\xf4T%\\x93\\xd5\\xc9\\xe9\\x13=#\\xe7\\xe59gT\\xf8\\xfa^^\\xd2\\xe6\\x95\\xd0D\\xa8\\xa2H}G\\xb0\\x82\\x0f\\xcf\\xed\\x17Qw&\\x03\\xf86\\x9710\\xa0\\x99\\x11\\xd5\\xe7+\\xdf\\xbe\\xa0\\xab<\\xfb\\xcd\\xe7\\xe6\\xc6E\\xad\\xc272\\x8d\\xca\\x19\\xc71l\\xf5\\x98\\xab\\x8b\\xbd\\xcc\\xa89r\\xe6i>\\'\\\\?\\xb3}\\x80P\\x9d/\\x92\\x06dF\\xd4o.QuX\\x9c\\xc1\\xe2\\x8a\\xe4C~\\xde\\xc9\\xfcvw\\x01\\x06\\xc8\\xa1\\x05\\xfcW:\\xb3\\xf8\\xc8\\x96\\x1a.\\x93\\xc3J\\x1a\\xcf\\xb3xL\\xdbh\\xab\\xae\\xd7s\\xd7\\x85oS\\x88\\xf3}bG\\x16\\xd5\\x8e\\x8a\\x0e\\x1a\\x99\\xb2\\xd2\\xdb\\xf9\\xc4Z\\xfb\\xd6\\xc3\\xe15\\xc79\\xd7\\x1ct\\xb4\\x07\\xdd\\xb5\\xdd\\xa1\\xb5I\\xed\\x8e\\xa8\\xfe\\xce\\r\\xf5s24\\\\\\xb2,1\\x8fYW\\xfa2\\xcd6,r\\x81$\\xd4\\xd8\\xd4\\xc4\\xad\\x0c<\\x16\\xa3jY=8-\\xa4c@\\xeb\\x035\\xbbv\\xd6\\x04f\\xe7be\\xf9\\xd9;\\x8fw\\nv\\xf3\\xe29\\x119\\xd6\\xa4\\x8d\\xfc\\xae\\x9e\\xc4(\\xd3\\xc7\\xb8DI\\xeb\\x96\\xac\\xd3_\\xe4:?{|\\xc6\\xbee\\xd4U\\n\\x8b\\xb6\\xcb\\xc2\\x88d\\xaa&\\xc9\\x16\\xb3\\x12\\xb6\\xda\\x8d\\x95\\xe1\\x1c\\x1ao\\xdepm\\xa2\\xa8\\xd9\\xf4h\\xf5\\xccw>\\xfa8\\t\\x99\\x1e\\x12\\xdd&\\xaf\\n\\x1e\\xf6!M\\xae\\xd2\\x16\\x08\\xe2o]\\xcb\\xad\\x98\"\\xa6\\xcf>\\x14I\\xe7U_\\xaaF{\\x0f\\xd8\\xbb\\xa4?\\x92\\xb5\\xc9{ J\\xa4-S<s\\xef\\x96\\x7f\\x15Z7\\xa6\\xc6\\xf7x\\x191\\xc0\\xc7\\xc0\\xd1g>\\xea\\xa4\\xb0G\\r\\x82\\x9b\\xca=\\x94\\xb2\"\\xbdy$=\\xaa\\xcc\\xce\\x9b\\xb0=\\xd3\\xdft\\xdf06?\\x86\\x1d\\xa6Ko\\xc0\\x80beg\\x10\\xabT\\xc96\\x14l\\x08\\xbcQl\\xb4\\x15K\\x03$\\x8b\\x1e&1\\x8b\\x18D\\x9d-lUp^j\\xe1IQD\\xc0r\\x93~iKK\\xa9\\xf9\\xe9\\xfa\\x1cC\\xbbD\\x1bt\\xfez\\xe9\\xe1\\xf9W\\x99a\\xc6\\xb2\\x92\\xc0/\\xdc\\x1a\\xf5\\x9a+\\xca`\\xf64\\xc6\\x90\\xfd}\\xd9\\x93\\xfc\\xb0\\xc6oPK\\x03\\x04\\x14\\x00\\x00\\x00\\x08\\x00Jh+N\\xebu\\x99u\\xb2\\x03\\x00\\x00Y\\x04\\x00\\x00\\x14\\x00\\x00\\x00test_data/Ta(21).jpg\\x9d\\x92iPRQ\\x14\\x80\\xef\\xf3\\xb1\\x07\\x15e\\x16E\\x9bR\\xb6;T\\xd2b\\x13\\xd3\\x82\\xb9T\\x86d\\x90S\\xe3\\x92-:5\\x8dF\\xb9d1\\x92\\x849\\xa9\\t\\xa5\\xe9\\x8f\\x8c\\xd0\\x8c6CA\\xd31M%-\\xcbi\\x0c\\x03\\xc5\\x88\\xa0\\xb2\\xbd\\xa4\\xc5\\xd4\\xb4\\xd7{M\\xcb\\x9f~T\\xdf\\xbdw\\xe6\\xce\\x9cs\\xee\\x9co\\xceE\\xda\\x91G`x\\x80\\xaf\\xbf/\\x80 \\x08\\x84\\xa3\\x0b \\x9d`\\x05p\\x81 l\\xff\\x00\\xc6\\xc3\\x18\\x04\\x1c\\x0e\\xc6\\x13\\tD\"vH\\xe4!d\\x12\\x89B\"\\x12)4\\ne\\x08\\x15\\x85H\\x1e:\\x8cF\\x1d\\x8a\\xdd\\xb1G\\xb0r\\xac\\n\\xddT\\x12\\x91D\\xfdg\\x90\\xeb\\x80N\\x02n`\\x0c\\x0c\\xb9\\x03\\x17:\\x04\\xd3!\\xc4\\x00&\\x02\\x00\\xe1\\xa1\\xef\\x80\\x1f@.0\\x0eO@[\\xa2\\x0cA\\x13\\xf4\\xc3\\xd1\\xf6a\\xd8\\x05m\\x16\\x8f\\xc3\\xa1\\xd1\\x03h\\x1c\\xe0\\xe8\\xf8\\x11\\x93\\xd9\\xcb\\x08#\\xf9\\x11D\\xf7X\\xd7\\xb9)\\xd9*\\x92\\xc7rm\\xdd\\xa8\\xe0\\xd6n\\xd6\\xbc\\xc88)\\x99\\xe26z\\x0cc\\xec\\x94\\xa9\\x9e\\xd3\\xa6\\xcf\\x98\\xef\\xcdY\\xb0p\\xd1\\xe2\\x15+y\\xbe\\xab\\xfc\\xfc\\x03\\x04\\xebC6\\x08E\\x1bC\\xb7Dm\\xdd\\xb6}Gt\\xcc\\x1e\\xf1\\xde}\\xf1\\t\\x89I\\x87Re\\x87\\xe5iG\\xd2\\x15\\xca\\xe3\\'rrO\\xe6\\xe5\\x9fQ\\x17\\x16\\x9d->\\xa79_Z\\xa6\\xd3\\x97W\\\\\\xad\\xac\\xaao0\\xdchl\\xbay\\xab\\xf9\\x9e\\xb1\\xed\\xbe\\xc9\\xdc\\xdea\\xb1;\\x1e?y\\xda\\xf5\\xec\\xf9\\x8b\\x97\\xce\\xf7\\x1f>~\\xea\\xf9\\xdc\\xdb\\xd7\\x8fyA\\x00\\x86~\\xf2G/:\\xea\\xe5\\x82\\xce\\x00GD\\xbd\\xd0`<\\x96@\\xc7\\xe1\\'\\xb3\\t#\\x96\\xf1\\x89\\x11\\xb1#\\xdd\\xe7\\xa6\\x90\\\\\\x97g\\xab\\xb4ud\\x8fy\\xc1\\xdd\\xa3\"\\xe3Z)n\\xac\\xf9\\xf6)NL\\xed\\xbb\\xd9\\xdf\\x89I\\xff\\xcb\\xec\\x97\\xd8o/\\x0b\\xa0\\xc2\\x10:<\\x98\\x0e\\xb8`p\\xa0\\xe4\\xa8\\xe4\\x91\\x16\\x01\\xdd\\xa25\\x0b\\xbe\\x92\\xa7\\xdb\\'\\xca\\x85\\x82\\x04\\x8e\\x17#\\xc6F\\xd7\\x1b\\x0b;y\\x89\\x973\\x86\\x05\\x19\\xed\\xbc0N\\xd7~5\\xeei\\xc8XQ\\r\\x9f\\xde\\x17\\xa8\\xf5\\xd86N\\x89\\x00\\xa9Y\\x94\\xd0`\\xb0\\x98\\xa5\\xe20\\xc2+\\xdbHqK\\xe4\\xab\\xba\\x87\\x8bj\\x8c\\x17\\x93\\x19\\x8e\\xcdB\\xbf\\xaa6\\xfd\\xcc]\\xcc\\xa0pjRr\\xeb\\xb5\\xdb\\x97\\xeaU~\\x0f\\x16\\xb2NXV\\\\\\xe1f\\xda\\xf4\\x05\\x8d\\xb5\\x196\\xb86\\xbce\\xb4\\xbd\\xb6)c\\xc6\\x87\\xc6\\tszU\\xddo%\\x8c\\x8b\\xa7X\\xa6%\\xab$\\x8e\\xbb\\xf2\\\\\\xcb\\xc1\\xe2R\\xf3\\xba\\xab\\xf2\\rms&\\xe9\\x14\\xa2\\x95\\xda\\xbe\\x9c\\x9c\\xf2\\xac\\xbc\\xe6\\xa8\\xb4v\\xaew@\\x96\\xf2TOy\\x8dfqn\\xc0`h\\x91\\xd7JSE\\x92\\xd87\\xdfX\\xe2mV\\'k\\xd7\\xf4\\xedY\\xbb\\xb4<\\xc6\\x8a\\x00\\x15\\xb7\\xd7s\\xf4\\x1b\\xcdn\\x04\\xe0\\xa9\\x83\\x19K\\x18\\xce}\\x9d\\r\\xa1\\xf2\\xd4-\\xce(AYt\\xbc\\xe0\\x80\\xfa\\xf5;\\x9a\\xe1\\xd8\\xa2\\xcc]iSe\\xf9\\xee\\xb7&\\xf1\\x1e\\x14\\x8e8\\x1fw\\xfa\\xb2\\xb2g\\x96\\xb9\\xa4:\\xe4\\x0b3y\\xca}\\xef\\xc0\\xdb\\xd7\\x02\\x83\\xdb\\xaa\\x19j\\xebf\\xabu\\xb51h\\xef\\xbc\\xf6\\xfa\\xbb\\xacLC\\x99\\x0f\\x9b\\xa5e)\\xfc\\xe7\\x0b\\x8b\\x8e\\x9e\\xd58<\\xd7\\xcc\\xdc\\xa8\\xff\\xec3\\xe1\\xa0[\\x85^=\\xb6\\xf6\\x8e\\xf2\\xcb\\xa7\\x81\\xa1\\x17\\x9a$\\xa4jO\\xa7\\xdf$\\'W6\\xe0\\xe3`\\x8f\\xbf\\xd4\\x92.\\x89\\x89\\xbe\\xf2pgEeVsejbz,\\xb3U\\xa1\\xf0Z%\\xd0\\xa70\\x85\\xc7\\x10\\xd0P,\\xd9Z\\xd0\\xcf)\\xe8@\\x00\\x02h]\\xd9\\x08\\xb8\\xf9\\x91\\xbf\\xc9\\x14f\\xb6\\xf5\\x97\\x15\\xe7Y\\x9a\\xaa\\x9e/\\xa6e\\xc9\\xc4>\\xb3\\xbd\\x02KuF\\xb1\\x95\\x83\\xd3\\xebtzY\\x84\\xd4\\xe4\\xbaN\\xc3\\xdcqz\\xc6\\x99s`\\x1a\\xfaY]\\xf9\\xbc\\x05S\\xad\\x1dl\\xff\\x99\\x1eH\\xc77PK\\x03\\x04\\n\\x00\\x00\\x00\\x00\\x006e+N=\\x14\\x04\\xa4o\\x04\\x00\\x00o\\x04\\x00\\x00\\x13\\x00\\x00\\x00test_data/Ta(7).jpg\\xff\\xd8\\xff\\xe0\\x00\\x10JFIF\\x00\\x01\\x01\\x00\\x00\\x01\\x00\\x01\\x00\\x00\\xff\\xdb\\x00C\\x00\\x08\\x06\\x06\\x07\\x06\\x05\\x08\\x07\\x07\\x07\\t\\t\\x08\\n\\x0c\\x14\\r\\x0c\\x0b\\x0b\\x0c\\x19\\x12\\x13\\x0f\\x14\\x1d\\x1a\\x1f\\x1e\\x1d\\x1a\\x1c\\x1c $.\\' \",#\\x1c\\x1c(7),01444\\x1f\\'9=82<.342\\xff\\xc0\\x00\\x0b\\x08\\x00 \\x00.\\x01\\x01\\x11\\x00\\xff\\xc4\\x00\\x1f\\x00\\x00\\x01\\x05\\x01\\x01\\x01\\x01\\x01\\x01\\x00\\x00\\x00\\x00\\x00\\x00\\x00\\x00\\x01\\x02\\x03\\x04\\x05\\x06\\x07\\x08\\t\\n\\x0b\\xff\\xc4\\x00\\xb5\\x10\\x00\\x02\\x01\\x03\\x03\\x02\\x04\\x03\\x05\\x05\\x04\\x04\\x00\\x00\\x01}\\x01\\x02\\x03\\x00\\x04\\x11\\x05\\x12!1A\\x06\\x13Qa\\x07\"q\\x142\\x81\\x91\\xa1\\x08#B\\xb1\\xc1\\x15R\\xd1\\xf0$3br\\x82\\t\\n\\x16\\x17\\x18\\x19\\x1a%&\\'()*456789:CDEFGHIJSTUVWXYZcdefghijstuvwxyz\\x83\\x84\\x85\\x86\\x87\\x88\\x89\\x8a\\x92\\x93\\x94\\x95\\x96\\x97\\x98\\x99\\x9a\\xa2\\xa3\\xa4\\xa5\\xa6\\xa7\\xa8\\xa9\\xaa\\xb2\\xb3\\xb4\\xb5\\xb6\\xb7\\xb8\\xb9\\xba\\xc2\\xc3\\xc4\\xc5\\xc6\\xc7\\xc8\\xc9\\xca\\xd2\\xd3\\xd4\\xd5\\xd6\\xd7\\xd8\\xd9\\xda\\xe1\\xe2\\xe3\\xe4\\xe5\\xe6\\xe7\\xe8\\xe9\\xea\\xf1\\xf2\\xf3\\xf4\\xf5\\xf6\\xf7\\xf8\\xf9\\xfa\\xff\\xda\\x00\\x08\\x01\\x01\\x00\\x00?\\x00\\xf4;\\x8b\\xbf\\x15\\xf8\\xbbT\\xd5m\\xb4\\rR=\\x03K\\xd3\\xee\\x16\\xde-A\\xac\\x05\\xc3\\xde\\xca\\xbb\\x84\\xca\\xa2B\\x02\\xa26\\x17!NJ\\x9c7Q\\\\_\\x8f5\\xbf\\x88\\xff\\x00\\x0c\\xa2\\xd3ui<O\\x06\\xbdc4\\xaf\\x0c\\xb1\\xcf\\xa6E\\x02+\\xed\\xca\\x03\\xb0\\xef9\\x01\\xcf\\x04cg=p}\\x13\\xc1\\x1e<\\xb1\\xf1\\x97\\x83\\x8f\\x88\\x19c\\xb0H^D\\xbb\\x8eIr\\xb6\\xe599r\\x14\\x11\\xb0\\xabg\\xa0\\xce;\\x1a\\xe6\\xfcC\\xf1gT\\xf0\\xf4\\xa2\\xf6\\x7f\\x02j\\xbf\\xf0\\x8f\\x19v\\rFG\\xf2\\xdc `\\xac\\xed\\tL\\xc7\\x92~Q!]\\xdct\\xcf\\x14\\xf5\\xcf\\x8d\\xed\\xa7\\xe8\\xd6\\xda\\xf6\\x9b\\xe1K\\xbb\\xcd\\x06wX\\x12\\xfa\\xe6\\xe5m\\xb7NT\\xb3\"\\xa6\\xd6,\\x17\\x05K\\x8f\\x97r\\xb0\\x04\\xe3\\'\\xd0<#\\xad_x\\x8f\\xc3V\\x9a\\xc5\\xfe\\x99\\x1e\\x9cn\\xd0M\\x0c\\x0bs\\xe7\\x9f)\\x80*\\xccv\\xa8\\x04\\x83\\x9cs\\x81\\x8c\\x9c\\xe4\\x0f\\x9b&\\xf8w\\xa5\\xb7\\xc0Ko\\x1aE4\\xf1\\xeai+<\\xc0\\x9d\\xc9*\\x19\\xfc\\x90\\x80q\\xb7\\x18\\x0c\\x0f=X\\x1c\\xe5v\\xe8h\\xdf\\xe9\\x9f\\xb2\\xf7\\x88~\\xd3\\xfb\\xff\\x00\\xb1\\xea\\xa9\\xf6_7\\xe6\\xf22\\xd0gf~\\xef\\xfa\\xc7\\xe9\\xfd\\xf6\\xf54|)\\xff\\x00\\x91\\x0b\\xc4\\x7f\\xda\\x9f\\xf2\\x04\\xfe\\xd5\\xd2w\\xfd\\xab\\xfe=\\xbf\\xe3\\xe9<\\xec\\xee\\xf9~\\xe6\\xcd\\xde\\xdbs\\xc6+\\xd1\\xe4\\xf8\\xab\\xe1\\xff\\x00\\x1e\\xf87\\xc5\\xd6\\x1adW\\xd0]A\\xa2]LR\\xee%]\\xe9\\xe5\\xb0$\\x15f\\x1c\\x12\\xbdq\\xf7\\x863\\xce<\\xe3\\xc4?\\xf2k\\xde\\x13\\xff\\x00\\xb0\\xac\\x9f\\xfa\\x15\\xd5{\\xff\\x00\\x81?\\xe4\\x9exk\\xfe\\xc1V\\xbf\\xfa)k\\xc3<u\\xe0k\\xebMf\\xebF\\xb0\\xf8\\x83\\xa3Z\\xe8\\xf7\\x17\\x0f#\\xe9\\x17z\\x9f\\xd9#\\xb2\\x0e\\xcd2\\xa9\\x83q\\x1b\\x07\\xc9\\x82\\x06I`v\\x81\\xcde\\xf8\\x82\\xebNo\\x06\\xc1\\xf0\\xf7\\xc0\\x16\\xfa\\xae\\xb2\\xc2T\\xd4u\\x1b\\xdbdf[\\x9c\\xc6\\xbf\\xf2\\xcdrB\\x82\\xc8\\n\\xb0\\x1b\\x1a5\\x07sd\\xd7\\xa1\\xd8xE\\xbc\\x07\\xf06X5\\x8b)/$\\xfbm\\xbe\\xa5\\xa9\\xd9\\xc4\\xab8\\x08\\xb7\\x10\\xb3\\xa0\\x18\\x00\\x81\\x14\\x7f6I\\x19\\r\\xce\\xdek\\xce\\'\\xd4\\xa1\\xf1\\'\\xc5\\x1f\\x18\\xea\\xfe\\x1aY\\x13I}\\x1e\\xfeK\\x8d\\xa0B$\\x8f\\xec\\xa5\\x0b\\xb2\\xe4n\\r1V\\xc1\\x19\\xc9\\x0c@ \\xe2\\xe7\\x88\\x7f\\xe4\\xd7\\xbc\\'\\xff\\x00aY?\\xf4+\\xaa\\xf7\\xff\\x00\\x02\\x7f\\xc9<\\xf0\\xd7\\xfd\\x82\\xad\\x7f\\xf4R\\xd7\\x84_\\xfc3\\xf1\\xdd\\xbf\\xc5;\\x9f\\x12\\xd9\\xf8w\\xedv\\xb1\\xebo\\x7f\\x08\\xfbl\\x11\\xf9\\xa8\\'2/W\\xca\\xe4c\\xa8\\xe3=+\\xd5\\xff\\x00\\xe1-\\xf8\\x87\\xff\\x00D\\xc3\\xff\\x00+\\xf6\\xff\\x00\\xe1RG\\xe2\\x9f\\x88.\\x933|6\\x8e2\\x89\\xb9U\\xb5\\xe8s!\\xdc\\x06\\xd5\\xc2\\x11\\x9c\\x12y\\xc0\\xc2\\x9es\\x80i\\xe9S\\xf8\\x9e\\x1d:\\xf7N\\x83\\xe1>\\x95\\xa6\\xd8\\xbcRH\\xf6\\xdf\\xda\\xb0,w,@R\\x9bc\\x88\\x82\\xcc8\\xf9\\xb0\\xb8\\x1c\\x91Z\\x1ak\\xf8\\xa7A\\xd0\\xf4\\xbb\\x1d/\\xc0\\xdaT\\x16\\xa3dB\\xd2-l\\xe6\\xd5[\\x96i\\t\\x87\\r\\x83\\x9d\\xc5K\\xb1$\\x91\\xbb9\\xae\\x83\\xc3\\xaf\\xaa\\x1d:8\\xf5\\x1d\\x16\\xc7H\\x8d\"\\x8cAkiw\\xe7yc\\x1c\\xa1\\x024U\\xdb\\xc0\\xf9K\\x0e\\xb88\\x03?\\xff\\xd9PK\\x01\\x02?\\x00\\x14\\x00\\x00\\x00\\x00\\x00Jh+N\\x00\\x00\\x00\\x00\\x00\\x00\\x00\\x00\\x00\\x00\\x00\\x00\\n\\x00$\\x00\\x00\\x00\\x00\\x00\\x00\\x00\\x10\\x00\\x00\\x00\\x00\\x00\\x00\\x00test_data/\\n\\x00 \\x00\\x00\\x00\\x00\\x00\\x01\\x00\\x18\\x00E\\xa4f\\xc8\\x7f\\xa9\\xd4\\x01E\\xa4f\\xc8\\x7f\\xa9\\xd4\\x01\\xa4Y\\x11\\xc6|\\xa9\\xd4\\x01PK\\x01\\x02?\\x00\\n\\x00\\x00\\x00\\x00\\x00\\x1ce+N\\xb4V(\\xadn\\x03\\x00\\x00n\\x03\\x00\\x00\\x14\\x00$\\x00\\x00\\x00\\x00\\x00\\x00\\x00 \\x00\\x00\\x00(\\x00\\x00\\x00test_data/Ta (1).jpg\\n\\x00 \\x00\\x00\\x00\\x00\\x00\\x01\\x00\\x18\\x00\\xc6Yu\\xcb|\\xa9\\xd4\\x01\\xc6Yu\\xcb|\\xa9\\xd4\\x01\\x00\\xc7\\xb31\\xe8\\xac\\xd0\\x01PK\\x01\\x02?\\x00\\n\\x00\\x00\\x00\\x00\\x00\\x0cf+N\\x02WYI\\x98\\x03\\x00\\x00\\x98\\x03\\x00\\x00\\x15\\x00$\\x00\\x00\\x00\\x00\\x00\\x00\\x00 \\x00\\x00\\x00\\xc8\\x03\\x00\\x00test_data/Ta (10).jpg\\n\\x00 \\x00\\x00\\x00\\x00\\x00\\x01\\x00\\x18\\x00v\\xfe\\x8c\\xd6}\\xa9\\xd4\\x01v\\xfe\\x8c\\xd6}\\xa9\\xd4\\x01\\x00\\x17\\xdf\\xc14x\\xd0\\x01PK\\x01\\x02?\\x00\\n\\x00\\x00\\x00\\x00\\x00\\x02h+NO{`\\xa0\\x11\\x02\\x00\\x00\\x11\\x02\\x00\\x00\\x15\\x00$\\x00\\x00\\x00\\x00\\x00\\x00\\x00 \\x00\\x00\\x00\\x93\\x07\\x00\\x00test_data/Ta (20).jpg\\n\\x00 \\x00\\x00\\x00\\x00\\x00\\x01\\x00\\x18\\x00\\x83\\xa8\\x14w\\x7f\\xa9\\xd4\\x01\\x83\\xa8\\x14w\\x7f\\xa9\\xd4\\x01\\x00y\\x18`\\xa8\\x0c\\xd0\\x01PK\\x01\\x02?\\x00\\n\\x00\\x00\\x00\\x00\\x00\\x1ce+N\\r\\xf2x\\x88\\x07\\x07\\x00\\x00\\x07\\x07\\x00\\x00\\x14\\x00$\\x00\\x00\\x00\\x00\\x00\\x00\\x00 \\x00\\x00\\x00\\xd7\\t\\x00\\x00test_data/Ta (4).jpg\\n\\x00 \\x00\\x00\\x00\\x00\\x00\\x01\\x00\\x18\\x009\\x10s\\xcb|\\xa9\\xd4\\x019\\x10s\\xcb|\\xa9\\xd4\\x01\\x00\\xee\\xd5\\xa2\\xa6\\\\\\xd0\\x01PK\\x01\\x02?\\x00\\x14\\x00\\x00\\x00\\x08\\x00,e+N\\xf3\\xf5\\\\\\x90\\xcd\\x03\\x00\\x00r\\x04\\x00\\x00\\x13\\x00$\\x00\\x00\\x00\\x00\\x00\\x00\\x00 \\x00\\x00\\x00\\x10\\x11\\x00\\x00test_data/Ta(1).jpg\\n\\x00 \\x00\\x00\\x00\\x00\\x00\\x01\\x00\\x18\\x00\\x1eY\\xd5\\xdb|\\xa9\\xd4\\x01\\x1eY\\xd5\\xdb|\\xa9\\xd4\\x01\\x00@\\xba H\\x0c\\xd0\\x01PK\\x01\\x02?\\x00\\x14\\x00\\x00\\x00\\x08\\x00Jh+N\\xebu\\x99u\\xb2\\x03\\x00\\x00Y\\x04\\x00\\x00\\x14\\x00$\\x00\\x00\\x00\\x00\\x00\\x00\\x00 \\x00\\x00\\x00\\x0e\\x15\\x00\\x00test_data/Ta(21).jpg\\n\\x00 \\x00\\x00\\x00\\x00\\x00\\x01\\x00\\x18\\x00\\x07;i\\xc8\\x7f\\xa9\\xd4\\x01\\x07;i\\xc8\\x7f\\xa9\\xd4\\x01\\x00u\\xadh\\xd7 \\xd0\\x01PK\\x01\\x02?\\x00\\n\\x00\\x00\\x00\\x00\\x006e+N=\\x14\\x04\\xa4o\\x04\\x00\\x00o\\x04\\x00\\x00\\x13\\x00$\\x00\\x00\\x00\\x00\\x00\\x00\\x00 \\x00\\x00\\x00\\xf2\\x18\\x00\\x00test_data/Ta(7).jpg\\n\\x00 \\x00\\x00\\x00\\x00\\x00\\x01\\x00\\x18\\x00\\x1aY\\xe0\\xe7|\\xa9\\xd4\\x01\\x1aY\\xe0\\xe7|\\xa9\\xd4\\x01\\x00\\x01\\t\\x8b4x\\xd0\\x01PK\\x05\\x06\\x00\\x00\\x00\\x00\\x08\\x00\\x08\\x00&\\x03\\x00\\x00\\x92\\x1d\\x00\\x00\\x00\\x00'}"
            ]
          },
          "metadata": {
            "tags": []
          },
          "execution_count": 77
        }
      ]
    },
    {
      "metadata": {
        "id": "JoMmpAHEw8Mr",
        "colab_type": "code",
        "colab": {
          "base_uri": "https://localhost:8080/",
          "height": 181
        },
        "outputId": "47a4ae7f-9a1c-4ae6-8b6f-5554e811f558"
      },
      "cell_type": "code",
      "source": [
        "!unzip test_data.zip -d {path}\n",
        "# !ls {path}\n"
      ],
      "execution_count": 78,
      "outputs": [
        {
          "output_type": "stream",
          "text": [
            "Archive:  test_data.zip\n",
            "replace data_tamil/UJTDchar/test_data/Ta (1).jpg? [y]es, [n]o, [A]ll, [N]one, [r]ename: A\n",
            " extracting: data_tamil/UJTDchar/test_data/Ta (1).jpg  \n",
            " extracting: data_tamil/UJTDchar/test_data/Ta (10).jpg  \n",
            " extracting: data_tamil/UJTDchar/test_data/Ta (20).jpg  \n",
            " extracting: data_tamil/UJTDchar/test_data/Ta (4).jpg  \n",
            "  inflating: data_tamil/UJTDchar/test_data/Ta(1).jpg  \n",
            "  inflating: data_tamil/UJTDchar/test_data/Ta(21).jpg  \n",
            " extracting: data_tamil/UJTDchar/test_data/Ta(7).jpg  \n"
          ],
          "name": "stdout"
        }
      ]
    },
    {
      "metadata": {
        "id": "NpeTWp8vyJhU",
        "colab_type": "code",
        "colab": {}
      },
      "cell_type": "code",
      "source": [
        "# rm -r test_data.zip"
      ],
      "execution_count": 0,
      "outputs": []
    },
    {
      "metadata": {
        "id": "1AC2fgfFtcBv",
        "colab_type": "code",
        "colab": {}
      },
      "cell_type": "code",
      "source": [
        "filename = 'data_tamil/UJTDchar/test_data/Ta(1).jpg'\n"
      ],
      "execution_count": 0,
      "outputs": []
    },
    {
      "metadata": {
        "id": "i2Isfyzxufns",
        "colab_type": "code",
        "colab": {
          "base_uri": "https://localhost:8080/",
          "height": 35
        },
        "outputId": "da6cb709-4f11-4cb4-de91-fad4527050de"
      },
      "cell_type": "code",
      "source": [
        "img = open_image(filename)\n",
        "losses = learn.predict(img)\n",
        "prediction = losses[0];\n",
        "prediction"
      ],
      "execution_count": 49,
      "outputs": [
        {
          "output_type": "execute_result",
          "data": {
            "text/plain": [
              "Category ஊ"
            ]
          },
          "metadata": {
            "tags": []
          },
          "execution_count": 49
        }
      ]
    },
    {
      "metadata": {
        "id": "AREqQb80ukkr",
        "colab_type": "code",
        "colab": {
          "base_uri": "https://localhost:8080/",
          "height": 260
        },
        "outputId": "f9a338a4-5101-4fea-dbfa-29fab1093f9d"
      },
      "cell_type": "code",
      "source": [
        "img=mpimg.imread(filename)\n",
        "imgplot = plt.imshow(img)\n",
        "plt.show()"
      ],
      "execution_count": 50,
      "outputs": [
        {
          "output_type": "display_data",
          "data": {
            "image/png": "[encoded data removed]",
            "text/plain": [
              "<matplotlib.figure.Figure at 0x7f6672beaa90>"
            ]
          },
          "metadata": {
            "tags": []
          }
        }
      ]
    },
    {
      "metadata": {
        "id": "LB2eP03Ku5BN",
        "colab_type": "code",
        "colab": {}
      },
      "cell_type": "code",
      "source": [
        "filename1 = 'data_tamil/UJTDchar/test_data/Ta(21).jpg'\n"
      ],
      "execution_count": 0,
      "outputs": []
    },
    {
      "metadata": {
        "id": "VlD3oalxzYYx",
        "colab_type": "code",
        "colab": {
          "base_uri": "https://localhost:8080/",
          "height": 35
        },
        "outputId": "0109588b-1124-4b75-fead-2223a8ee497a"
      },
      "cell_type": "code",
      "source": [
        "img = open_image(filename1)\n",
        "losses = learn.predict(img)\n",
        "prediction = losses[0];\n",
        "prediction"
      ],
      "execution_count": 80,
      "outputs": [
        {
          "output_type": "execute_result",
          "data": {
            "text/plain": [
              "Category ஙீ"
            ]
          },
          "metadata": {
            "tags": []
          },
          "execution_count": 80
        }
      ]
    },
    {
      "metadata": {
        "id": "budbXzFyzfr4",
        "colab_type": "code",
        "colab": {
          "base_uri": "https://localhost:8080/",
          "height": 265
        },
        "outputId": "52fdc1d6-e7c3-4714-ca4f-e612ca1cfb86"
      },
      "cell_type": "code",
      "source": [
        "img=mpimg.imread(filename1)\n",
        "imgplot = plt.imshow(img)\n",
        "plt.show()"
      ],
      "execution_count": 81,
      "outputs": [
        {
          "output_type": "display_data",
          "data": {
            "image/png": "[encoded data removed]",
            "text/plain": [
              "<matplotlib.figure.Figure at 0x7f6671a88550>"
            ]
          },
          "metadata": {
            "tags": []
          }
        }
      ]
    },
    {
      "metadata": {
        "id": "dZFnguxNzooA",
        "colab_type": "code",
        "colab": {}
      },
      "cell_type": "code",
      "source": [
        "interp = ClassificationInterpretation.from_learner(learn)\n"
      ],
      "execution_count": 0,
      "outputs": []
    },
    {
      "metadata": {
        "id": "IEa6XALCz1NV",
        "colab_type": "code",
        "colab": {
          "base_uri": "https://localhost:8080/",
          "height": 508
        },
        "outputId": "84fbe294-360c-4bcc-9efb-20b43d432f7e"
      },
      "cell_type": "code",
      "source": [
        "interp.most_confused(min_val=2)\n"
      ],
      "execution_count": 69,
      "outputs": [
        {
          "output_type": "execute_result",
          "data": {
            "text/plain": [
              "[('ன', 'ண', 13),\n",
              " ('ணி', 'ணீ', 10),\n",
              " ('ணூ', 'னு', 10),\n",
              " ('ணூ', 'ணு', 9),\n",
              " ('லூ', 'லு', 9),\n",
              " ('னூ', 'னு', 8),\n",
              " ('னூ', 'ணூ', 7),\n",
              " ('ணீ', 'ணி', 6),\n",
              " ('ளு', 'ளூ', 6),\n",
              " ('ளூ', 'ளு', 6),\n",
              " ('நூ', 'ஞூ', 5),\n",
              " ('ப', 'ய', 5),\n",
              " ('ஒ', 'ஓ', 4),\n",
              " ('ஙீ', 'ஙி', 4),\n",
              " ('ணு', 'ணூ', 4),\n",
              " ('து', 'தூ', 4),\n",
              " ('நு', 'நூ', 4),\n",
              " ('ழ', 'ழ்', 4),\n",
              " ('ழு', 'ழூ', 4),\n",
              " ('ஞூ', 'ஞு', 3),\n",
              " ('ண', 'ை', 3),\n",
              " ('ன', 'ை', 3),\n",
              " ('னீ', 'னி', 3),\n",
              " ('மி', 'யி', 3),\n",
              " ('ற', 'ற்', 3),\n",
              " ('று', 'றூ', 3),\n",
              " ('ள்', 'ன்', 3)]"
            ]
          },
          "metadata": {
            "tags": []
          },
          "execution_count": 69
        }
      ]
    },
    {
      "metadata": {
        "id": "OHZTVOW8z5yU",
        "colab_type": "code",
        "colab": {}
      },
      "cell_type": "code",
      "source": [
        ""
      ],
      "execution_count": 0,
      "outputs": []
    }
  ]
}